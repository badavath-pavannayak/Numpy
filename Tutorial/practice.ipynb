{
 "cells": [
  {
   "cell_type": "code",
   "execution_count": 1,
   "id": "2b759e51-2913-474a-bd0c-2ac0dd9a0753",
   "metadata": {},
   "outputs": [],
   "source": [
    "import numpy as np"
   ]
  },
  {
   "cell_type": "markdown",
   "id": "11bfad0c-86c6-4d57-9b3a-a6e1faad672e",
   "metadata": {},
   "source": [
    "### Create 1D Array"
   ]
  },
  {
   "cell_type": "code",
   "execution_count": 2,
   "id": "46ec0943-f118-42d3-a915-6757f37de05f",
   "metadata": {},
   "outputs": [
    {
     "data": {
      "text/plain": [
       "array([0, 1, 2, 3, 4, 5, 6, 7, 8, 9])"
      ]
     },
     "execution_count": 2,
     "metadata": {},
     "output_type": "execute_result"
    }
   ],
   "source": [
    "np.arange(10)"
   ]
  },
  {
   "cell_type": "markdown",
   "id": "3ab7cfaa-9502-4b2c-9126-c283ce7d2b4d",
   "metadata": {},
   "source": [
    "### Create a Boolean Array"
   ]
  },
  {
   "cell_type": "code",
   "execution_count": 5,
   "id": "f54c6894-70de-4d66-a733-37e52ae982d2",
   "metadata": {},
   "outputs": [
    {
     "data": {
      "text/plain": [
       "array([[ True,  True,  True],\n",
       "       [ True,  True,  True],\n",
       "       [ True,  True,  True]])"
      ]
     },
     "execution_count": 5,
     "metadata": {},
     "output_type": "execute_result"
    }
   ],
   "source": [
    "np.full((9),True,dtype=bool).reshape(3,3) # Way 1"
   ]
  },
  {
   "cell_type": "code",
   "execution_count": 6,
   "id": "56b94f8d-fd6d-493a-b74f-bbcf02cca549",
   "metadata": {},
   "outputs": [
    {
     "data": {
      "text/plain": [
       "array([[ True,  True,  True],\n",
       "       [ True,  True,  True],\n",
       "       [ True,  True,  True]])"
      ]
     },
     "execution_count": 6,
     "metadata": {},
     "output_type": "execute_result"
    }
   ],
   "source": [
    "np.full((3,3),True,dtype=bool) #way 2"
   ]
  },
  {
   "cell_type": "code",
   "execution_count": 9,
   "id": "617ffca1-c355-4348-8a73-7e0af3fa2e4e",
   "metadata": {},
   "outputs": [
    {
     "data": {
      "text/plain": [
       "array([[ True,  True,  True],\n",
       "       [ True,  True,  True],\n",
       "       [ True,  True,  True]])"
      ]
     },
     "execution_count": 9,
     "metadata": {},
     "output_type": "execute_result"
    }
   ],
   "source": [
    "np.ones((3,3),dtype=bool) # way 3"
   ]
  },
  {
   "cell_type": "code",
   "execution_count": 11,
   "id": "cb5914f7-4d6d-4e7c-9e0e-b1dfeb1908c8",
   "metadata": {},
   "outputs": [
    {
     "data": {
      "text/plain": [
       "array([[ True,  True,  True],\n",
       "       [ True,  True,  True],\n",
       "       [ True,  True,  True]])"
      ]
     },
     "execution_count": 11,
     "metadata": {},
     "output_type": "execute_result"
    }
   ],
   "source": [
    "np.ones((9),dtype=bool).reshape(3,3) #way 4"
   ]
  },
  {
   "cell_type": "markdown",
   "id": "7ad481f0-65a4-45cb-83e6-229f27d9c1b3",
   "metadata": {},
   "source": [
    "### extract items that satisfy a given condition from 1D array\n",
    "\n",
    "extract all the odd numbers from array 1,2,3,.....9\n"
   ]
  },
  {
   "cell_type": "code",
   "execution_count": 12,
   "id": "99fa6bd0-365d-4d79-bb94-7ba0c4ff6324",
   "metadata": {},
   "outputs": [],
   "source": [
    "arr = np.arange(10)"
   ]
  },
  {
   "cell_type": "code",
   "execution_count": 13,
   "id": "b3a06453-4d7c-4a64-b5f7-8bb196292a29",
   "metadata": {},
   "outputs": [
    {
     "data": {
      "text/plain": [
       "array([1, 3, 5, 7, 9])"
      ]
     },
     "execution_count": 13,
     "metadata": {},
     "output_type": "execute_result"
    }
   ],
   "source": [
    "arr[arr%2!=0]"
   ]
  },
  {
   "cell_type": "markdown",
   "id": "4ca1a143-e62f-498c-a79c-ed0cfdeb0480",
   "metadata": {},
   "source": [
    "### replace items that satisfy a condition with another value in numpy array\n",
    "replace all the odd numbers in arr with -1"
   ]
  },
  {
   "cell_type": "code",
   "execution_count": 14,
   "id": "e4bd6686-c71b-45e6-b392-4be34172a763",
   "metadata": {},
   "outputs": [],
   "source": [
    "arr = np.arange(10)"
   ]
  },
  {
   "cell_type": "code",
   "execution_count": 15,
   "id": "b64bd838-1ade-453c-88af-ca299d42655a",
   "metadata": {},
   "outputs": [],
   "source": [
    "arr[arr%2!=0] = -1"
   ]
  },
  {
   "cell_type": "code",
   "execution_count": 16,
   "id": "b59d4564-a377-4269-988f-3d72d2901f73",
   "metadata": {},
   "outputs": [
    {
     "data": {
      "text/plain": [
       "array([ 0, -1,  2, -1,  4, -1,  6, -1,  8, -1])"
      ]
     },
     "execution_count": 16,
     "metadata": {},
     "output_type": "execute_result"
    }
   ],
   "source": [
    "arr"
   ]
  },
  {
   "cell_type": "markdown",
   "id": "51226957-7cf1-41c7-b7c4-eca8f051595f",
   "metadata": {},
   "source": [
    "### replace items that satisfy a condition without affecting the original array\n",
    "\n",
    "Replace all odd numbers in arr with -1 without changing arr"
   ]
  },
  {
   "cell_type": "code",
   "execution_count": 17,
   "id": "31be6f4b-89d9-41e5-8707-30a25c0b0395",
   "metadata": {},
   "outputs": [],
   "source": [
    "arr = np.arange(10)"
   ]
  },
  {
   "cell_type": "code",
   "execution_count": 18,
   "id": "c261ff9c-90fd-4582-8a7d-c287e602236a",
   "metadata": {},
   "outputs": [],
   "source": [
    "arr_copy = arr.copy()"
   ]
  },
  {
   "cell_type": "code",
   "execution_count": 19,
   "id": "a91f26a3-8260-43d7-a17e-dc3d288006d4",
   "metadata": {},
   "outputs": [],
   "source": [
    "arr_copy[arr_copy%2!=0] = -1"
   ]
  },
  {
   "cell_type": "code",
   "execution_count": 20,
   "id": "601d627d-895c-48fb-bdd1-e7f27b107aa6",
   "metadata": {},
   "outputs": [
    {
     "data": {
      "text/plain": [
       "array([0, 1, 2, 3, 4, 5, 6, 7, 8, 9])"
      ]
     },
     "execution_count": 20,
     "metadata": {},
     "output_type": "execute_result"
    }
   ],
   "source": [
    "arr"
   ]
  },
  {
   "cell_type": "code",
   "execution_count": 21,
   "id": "405648f6-8015-4492-bb6c-ca2c06570c55",
   "metadata": {},
   "outputs": [
    {
     "data": {
      "text/plain": [
       "array([ 0, -1,  2, -1,  4, -1,  6, -1,  8, -1])"
      ]
     },
     "execution_count": 21,
     "metadata": {},
     "output_type": "execute_result"
    }
   ],
   "source": [
    "arr_copy"
   ]
  },
  {
   "cell_type": "markdown",
   "id": "24a9aa5e-8c1a-431b-a70e-53115d6518b0",
   "metadata": {},
   "source": [
    "### reshape an array\n",
    "\n",
    "\n",
    "Convert a 1D array to a 2D array with 2 rows"
   ]
  },
  {
   "cell_type": "code",
   "execution_count": 22,
   "id": "cb67a847-7d08-49a8-ab82-a3a6fd942035",
   "metadata": {},
   "outputs": [],
   "source": [
    "arr = np.arange(10)"
   ]
  },
  {
   "cell_type": "code",
   "execution_count": 23,
   "id": "42bbb8fb-f833-43ce-b64f-ff61146da058",
   "metadata": {},
   "outputs": [
    {
     "data": {
      "text/plain": [
       "array([[0, 1, 2, 3, 4],\n",
       "       [5, 6, 7, 8, 9]])"
      ]
     },
     "execution_count": 23,
     "metadata": {},
     "output_type": "execute_result"
    }
   ],
   "source": [
    "arr.reshape(2,-1)"
   ]
  },
  {
   "cell_type": "markdown",
   "id": "718f30bf-ee1f-4dc2-af8c-e8976271cdcb",
   "metadata": {},
   "source": [
    "### stack two arrays vertically\n",
    "\n",
    "Stack arrays a and b vertically"
   ]
  },
  {
   "cell_type": "code",
   "execution_count": 24,
   "id": "b010dc7e-7051-49af-9fde-cd5a7d4614c1",
   "metadata": {},
   "outputs": [],
   "source": [
    "a = np.arange(10).reshape(2,-1)"
   ]
  },
  {
   "cell_type": "code",
   "execution_count": 25,
   "id": "04ef8813-db24-4788-8379-ec84f1a95228",
   "metadata": {},
   "outputs": [],
   "source": [
    "b = np.arange(10,20).reshape(2,-1)"
   ]
  },
  {
   "cell_type": "code",
   "execution_count": 26,
   "id": "6d298a94-2259-4eae-8f54-e26305f9a6c2",
   "metadata": {},
   "outputs": [
    {
     "data": {
      "text/plain": [
       "array([[0, 1, 2, 3, 4],\n",
       "       [5, 6, 7, 8, 9]])"
      ]
     },
     "execution_count": 26,
     "metadata": {},
     "output_type": "execute_result"
    }
   ],
   "source": [
    "a"
   ]
  },
  {
   "cell_type": "code",
   "execution_count": 27,
   "id": "7170ca9d-9bfe-4af6-802f-819665be386b",
   "metadata": {},
   "outputs": [
    {
     "data": {
      "text/plain": [
       "array([[10, 11, 12, 13, 14],\n",
       "       [15, 16, 17, 18, 19]])"
      ]
     },
     "execution_count": 27,
     "metadata": {},
     "output_type": "execute_result"
    }
   ],
   "source": [
    "b"
   ]
  },
  {
   "cell_type": "code",
   "execution_count": 28,
   "id": "8685ea0a-d3b7-46e8-8884-9e3983b36e9b",
   "metadata": {},
   "outputs": [
    {
     "data": {
      "text/plain": [
       "array([[ 0,  1,  2,  3,  4],\n",
       "       [ 5,  6,  7,  8,  9],\n",
       "       [10, 11, 12, 13, 14],\n",
       "       [15, 16, 17, 18, 19]])"
      ]
     },
     "execution_count": 28,
     "metadata": {},
     "output_type": "execute_result"
    }
   ],
   "source": [
    "np.vstack([a,b])"
   ]
  },
  {
   "cell_type": "markdown",
   "id": "ff1d5aea-9dd6-4aaa-b287-8c0849b9190f",
   "metadata": {},
   "source": [
    "### stack two arrays horizontally\n",
    "\n",
    "Stack the arrays a and b horizontally."
   ]
  },
  {
   "cell_type": "code",
   "execution_count": 29,
   "id": "ee74a595-4bb4-4f88-942c-82a1d5c82396",
   "metadata": {},
   "outputs": [],
   "source": [
    "b = np.arange(10,20).reshape(2,-1)"
   ]
  },
  {
   "cell_type": "code",
   "execution_count": 30,
   "id": "4cd88ff5-0c10-4573-badd-140358839a12",
   "metadata": {},
   "outputs": [],
   "source": [
    "a = np.arange(10).reshape(2,-1)"
   ]
  },
  {
   "cell_type": "code",
   "execution_count": 31,
   "id": "265506b7-3131-4f65-b5a4-083235494385",
   "metadata": {},
   "outputs": [
    {
     "data": {
      "text/plain": [
       "array([[ 0,  1,  2,  3,  4, 10, 11, 12, 13, 14],\n",
       "       [ 5,  6,  7,  8,  9, 15, 16, 17, 18, 19]])"
      ]
     },
     "execution_count": 31,
     "metadata": {},
     "output_type": "execute_result"
    }
   ],
   "source": [
    "np.hstack([a,b])"
   ]
  },
  {
   "cell_type": "markdown",
   "id": "15a3b249-0cdf-4a9d-a9e5-eb825d7b0b0b",
   "metadata": {},
   "source": [
    "### generate custom sequences in numpy without hardcoding\n",
    "\n",
    "Question: Create the following pattern without hardcoding. Use only numpy functions and the below input array a.\n",
    "\n",
    "#### Input: a = np.array([1,2,3])\n",
    "#### Output: array([1, 1, 1, 2, 2, 2, 3, 3, 3, 1, 2, 3, 1, 2, 3, 1, 2, 3])"
   ]
  },
  {
   "cell_type": "code",
   "execution_count": 32,
   "id": "8405f5f9-c01d-46ed-a77d-540fa5818fb9",
   "metadata": {},
   "outputs": [],
   "source": [
    "a = np.array([1,2,3])"
   ]
  },
  {
   "cell_type": "code",
   "execution_count": 33,
   "id": "bc8f7a55-cecf-4eb4-8da3-bebd7f9839fd",
   "metadata": {},
   "outputs": [
    {
     "data": {
      "text/plain": [
       "array([1, 2, 3, 1, 2, 3, 1, 2, 3])"
      ]
     },
     "execution_count": 33,
     "metadata": {},
     "output_type": "execute_result"
    }
   ],
   "source": [
    "np.tile(a,3)"
   ]
  },
  {
   "cell_type": "code",
   "execution_count": 34,
   "id": "6ccb5ad7-6473-4577-8b0c-45b391b4439c",
   "metadata": {},
   "outputs": [
    {
     "data": {
      "text/plain": [
       "array([1, 1, 1, 2, 2, 2, 3, 3, 3])"
      ]
     },
     "execution_count": 34,
     "metadata": {},
     "output_type": "execute_result"
    }
   ],
   "source": [
    "np.repeat(a,3)"
   ]
  },
  {
   "cell_type": "code",
   "execution_count": 38,
   "id": "c6bd248c-fa43-4adc-a665-9b8bd79449b9",
   "metadata": {},
   "outputs": [
    {
     "data": {
      "text/plain": [
       "array([1, 2])"
      ]
     },
     "execution_count": 38,
     "metadata": {},
     "output_type": "execute_result"
    }
   ],
   "source": [
    "np.r_[a[0:1],a[1:2]]"
   ]
  },
  {
   "cell_type": "code",
   "execution_count": 39,
   "id": "82d2cf2e-7f68-47e1-9b5d-aaabc90b03d1",
   "metadata": {},
   "outputs": [
    {
     "data": {
      "text/plain": [
       "array([[1, 2]])"
      ]
     },
     "execution_count": 39,
     "metadata": {},
     "output_type": "execute_result"
    }
   ],
   "source": [
    "np.c_[a[0:1],a[1:2]]"
   ]
  },
  {
   "cell_type": "code",
   "execution_count": 41,
   "id": "1b813a3c-1b6d-4f65-9980-2a35eb5ab188",
   "metadata": {},
   "outputs": [
    {
     "data": {
      "text/plain": [
       "array([1, 1, 1, 2, 2, 2, 3, 3, 3, 1, 2, 3, 1, 2, 3, 1, 2, 3])"
      ]
     },
     "execution_count": 41,
     "metadata": {},
     "output_type": "execute_result"
    }
   ],
   "source": [
    "np.r_[np.repeat(a,3),np.tile(a,3)]  # Way 1"
   ]
  },
  {
   "cell_type": "code",
   "execution_count": 43,
   "id": "eea0ecd5-1030-418c-b9eb-6633c19fec11",
   "metadata": {},
   "outputs": [
    {
     "data": {
      "text/plain": [
       "array([1, 1, 1, 2, 2, 2, 3, 3, 3, 1, 2, 3, 1, 2, 3, 1, 2, 3])"
      ]
     },
     "execution_count": 43,
     "metadata": {},
     "output_type": "execute_result"
    }
   ],
   "source": [
    "np.hstack((np.repeat(a,3),np.tile(a,3))) # Way 2"
   ]
  },
  {
   "cell_type": "markdown",
   "id": "b3ab43f1-18f1-4bdb-8c33-3c88382b1041",
   "metadata": {},
   "source": [
    "### get the common items between two python numpy arrays"
   ]
  },
  {
   "cell_type": "code",
   "execution_count": 44,
   "id": "18f53a5c-b906-4c88-9cb6-87b9aba9d359",
   "metadata": {},
   "outputs": [],
   "source": [
    "a = np.array([1,2,3,2,3,4,3,4,5,6])"
   ]
  },
  {
   "cell_type": "code",
   "execution_count": 45,
   "id": "8bd066f7-2686-47ee-9dcd-906af4f7b03a",
   "metadata": {},
   "outputs": [],
   "source": [
    "b = np.array([7,2,10,2,7,4,9,4,9,8])"
   ]
  },
  {
   "cell_type": "code",
   "execution_count": 47,
   "id": "0bff29e2-d7e6-4ead-ac18-841e8a663e99",
   "metadata": {},
   "outputs": [
    {
     "data": {
      "text/plain": [
       "array([2, 4])"
      ]
     },
     "execution_count": 47,
     "metadata": {},
     "output_type": "execute_result"
    }
   ],
   "source": [
    "np.intersect1d(a,b)"
   ]
  },
  {
   "cell_type": "markdown",
   "id": "a113405a-a3c4-46db-b52a-d829b379766d",
   "metadata": {},
   "source": [
    "### remove from one array those items that exist in another\n",
    "\n",
    "From array a remove all items present in array b\n"
   ]
  },
  {
   "cell_type": "code",
   "execution_count": 49,
   "id": "9c401599-cf9d-4e5a-8c27-aefd818b8850",
   "metadata": {},
   "outputs": [],
   "source": [
    "a = np.array([1,2,3,4,5])"
   ]
  },
  {
   "cell_type": "code",
   "execution_count": 50,
   "id": "be69aa95-634a-4d20-8d20-40682ff57589",
   "metadata": {},
   "outputs": [],
   "source": [
    "b = np.array([5,6,7,8,9])"
   ]
  },
  {
   "cell_type": "code",
   "execution_count": 53,
   "id": "3e147817-f8a7-4c37-a707-1e48a643bd84",
   "metadata": {},
   "outputs": [
    {
     "data": {
      "text/plain": [
       "array([-4, -4, -4, -4, -4])"
      ]
     },
     "execution_count": 53,
     "metadata": {},
     "output_type": "execute_result"
    }
   ],
   "source": [
    "np.subtract(a,b) # not a solution"
   ]
  },
  {
   "cell_type": "code",
   "execution_count": 54,
   "id": "24732775-3264-44d6-91d9-f5e90b9b47a5",
   "metadata": {},
   "outputs": [
    {
     "data": {
      "text/plain": [
       "array([1, 2, 3, 4])"
      ]
     },
     "execution_count": 54,
     "metadata": {},
     "output_type": "execute_result"
    }
   ],
   "source": [
    "np.setdiff1d(a,b)"
   ]
  },
  {
   "cell_type": "markdown",
   "id": "fdac2b8f-3c48-4999-996c-b1dd66907280",
   "metadata": {},
   "source": [
    "### get the positions where elements of two arrays match"
   ]
  },
  {
   "cell_type": "code",
   "execution_count": 57,
   "id": "15a0afe0-7251-4155-beb9-837c31bd62fe",
   "metadata": {},
   "outputs": [],
   "source": [
    "a = np.array([1,2,3,2,3,4,3,4,5,6])"
   ]
  },
  {
   "cell_type": "code",
   "execution_count": 58,
   "id": "6bdb7c9d-328c-4a5b-84e3-0eb991a86b91",
   "metadata": {},
   "outputs": [],
   "source": [
    "b = np.array([7,2,10,2,7,4,9,4,9,8])"
   ]
  },
  {
   "cell_type": "code",
   "execution_count": 59,
   "id": "412ddcb3-3291-4139-90d9-6b837d51c93e",
   "metadata": {},
   "outputs": [
    {
     "data": {
      "text/plain": [
       "(array([1, 3, 5, 7], dtype=int64),)"
      ]
     },
     "execution_count": 59,
     "metadata": {},
     "output_type": "execute_result"
    }
   ],
   "source": [
    "np.where(a==b)"
   ]
  },
  {
   "cell_type": "markdown",
   "id": "270ff4ab-9068-446a-b656-022908738f95",
   "metadata": {},
   "source": [
    "### extract all numbers between a given range from a numpy array\n",
    "\n",
    " Get all items between 5 and 10 from a."
   ]
  },
  {
   "cell_type": "code",
   "execution_count": 60,
   "id": "0eccb868-c1bc-4f96-b8ab-dfa2e3b4b32c",
   "metadata": {},
   "outputs": [],
   "source": [
    "a = np.array([2, 6, 1, 9, 10, 3, 27])"
   ]
  },
  {
   "cell_type": "code",
   "execution_count": 62,
   "id": "559024a1-77a1-4dbc-b105-200dfb52e61e",
   "metadata": {},
   "outputs": [
    {
     "data": {
      "text/plain": [
       "array([ 6,  9, 10])"
      ]
     },
     "execution_count": 62,
     "metadata": {},
     "output_type": "execute_result"
    }
   ],
   "source": [
    "a[(a>=5) & (a<=10)]"
   ]
  },
  {
   "cell_type": "code",
   "execution_count": null,
   "id": "f74e4855-adbe-474d-8e61-bea5c5e41767",
   "metadata": {
    "editable": true,
    "slideshow": {
     "slide_type": ""
    },
    "tags": []
   },
   "outputs": [],
   "source": []
  }
 ],
 "metadata": {
  "kernelspec": {
   "display_name": "Python 3 (ipykernel)",
   "language": "python",
   "name": "python3"
  },
  "language_info": {
   "codemirror_mode": {
    "name": "ipython",
    "version": 3
   },
   "file_extension": ".py",
   "mimetype": "text/x-python",
   "name": "python",
   "nbconvert_exporter": "python",
   "pygments_lexer": "ipython3",
   "version": "3.11.5"
  }
 },
 "nbformat": 4,
 "nbformat_minor": 5
}
