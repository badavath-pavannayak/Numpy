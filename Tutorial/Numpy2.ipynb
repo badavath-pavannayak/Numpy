{
 "cells": [
  {
   "cell_type": "markdown",
   "id": "9023a869-c771-4346-9f44-d52df98c2746",
   "metadata": {},
   "source": [
    "Numpy is used for numerical analysis"
   ]
  },
  {
   "cell_type": "markdown",
   "id": "ed353bbc-ebef-4746-be12-0600453a700b",
   "metadata": {},
   "source": [
    "This will cover\n",
    "\n",
    "- Indexing\n",
    "- Aggregate Function\n",
    "- Logical Operations\n",
    "- NPS Case Study\n",
    "\n",
    "### Additional \n",
    "FitBit Case study"
   ]
  },
  {
   "cell_type": "code",
   "execution_count": 1,
   "id": "46e1fedf-615e-455f-9e3c-1dceaff379cd",
   "metadata": {},
   "outputs": [],
   "source": [
    "import numpy as np"
   ]
  },
  {
   "cell_type": "markdown",
   "id": "60fa62f8-2459-4aa6-aa47-674e59f9b16f",
   "metadata": {},
   "source": [
    "# NPS - Net Promoter Score\n",
    "1 - 6    detractor\n",
    "7 - 8    Neutral\n",
    "9 - 10   Promoter\n",
    "\n",
    "\n",
    "\n",
    "### When promoter is above than 70% company is performing very good"
   ]
  },
  {
   "cell_type": "markdown",
   "id": "0a3ebd94-47b9-4beb-824f-b41720532d0d",
   "metadata": {},
   "source": [
    "## How to load text file\n",
    "\n",
    "`numpy.loadtxt(fname, dtype=<class 'float'>, comments='#', delimiter=None, converters=None, skiprows=0, usecols=None, unpack=False, ndmin=0, encoding=None, max_rows=None, *, quotechar=None, like=None)`"
   ]
  },
  {
   "cell_type": "code",
   "execution_count": 2,
   "id": "5822f999-aa79-4cf5-bfa9-27da4f300b86",
   "metadata": {},
   "outputs": [],
   "source": [
    "score = np.loadtxt(\"Files/survey.txt\",dtype=int)"
   ]
  },
  {
   "cell_type": "code",
   "execution_count": 3,
   "id": "d9714015-324c-4972-b061-cfce3578422d",
   "metadata": {},
   "outputs": [
    {
     "data": {
      "text/plain": [
       "array([ 7, 10,  5, ...,  5,  9, 10])"
      ]
     },
     "execution_count": 3,
     "metadata": {},
     "output_type": "execute_result"
    }
   ],
   "source": [
    "score"
   ]
  },
  {
   "cell_type": "code",
   "execution_count": 4,
   "id": "2d9bb1f0-1342-4945-b05d-ab24a616cb04",
   "metadata": {},
   "outputs": [
    {
     "data": {
      "text/plain": [
       "array([ 7, 10,  5,  9,  9])"
      ]
     },
     "execution_count": 4,
     "metadata": {},
     "output_type": "execute_result"
    }
   ],
   "source": [
    "# Starting 5 elemts of the score\n",
    "score[:5]"
   ]
  },
  {
   "cell_type": "code",
   "execution_count": 5,
   "id": "29a1c966-733c-422b-aae1-0acbb6d636ab",
   "metadata": {},
   "outputs": [
    {
     "data": {
      "text/plain": [
       "numpy.ndarray"
      ]
     },
     "execution_count": 5,
     "metadata": {},
     "output_type": "execute_result"
    }
   ],
   "source": [
    "type(score)"
   ]
  },
  {
   "cell_type": "code",
   "execution_count": 6,
   "id": "3cfd28b9-51b2-452b-8421-cbd6ac700344",
   "metadata": {},
   "outputs": [
    {
     "data": {
      "text/plain": [
       "1"
      ]
     },
     "execution_count": 6,
     "metadata": {},
     "output_type": "execute_result"
    }
   ],
   "source": [
    "score.ndim"
   ]
  },
  {
   "cell_type": "code",
   "execution_count": 7,
   "id": "35dd8576-dca0-4e2a-a49e-871ce8d9c4cd",
   "metadata": {},
   "outputs": [
    {
     "data": {
      "text/plain": [
       "(1167,)"
      ]
     },
     "execution_count": 7,
     "metadata": {},
     "output_type": "execute_result"
    }
   ],
   "source": [
    "score.shape"
   ]
  },
  {
   "cell_type": "markdown",
   "id": "5f1db1e2-7023-4e46-9569-307084455496",
   "metadata": {},
   "source": [
    "# Aggregators"
   ]
  },
  {
   "cell_type": "code",
   "execution_count": 8,
   "id": "970a60c4-dd30-4bd0-925b-d67e24e8265e",
   "metadata": {},
   "outputs": [
    {
     "data": {
      "text/plain": [
       "1"
      ]
     },
     "execution_count": 8,
     "metadata": {},
     "output_type": "execute_result"
    }
   ],
   "source": [
    "score.min()"
   ]
  },
  {
   "cell_type": "code",
   "execution_count": 9,
   "id": "da357b76-7c7a-4871-b45b-85a5368949d5",
   "metadata": {},
   "outputs": [
    {
     "data": {
      "text/plain": [
       "10"
      ]
     },
     "execution_count": 9,
     "metadata": {},
     "output_type": "execute_result"
    }
   ],
   "source": [
    "score.max()"
   ]
  },
  {
   "cell_type": "markdown",
   "id": "017f9678-c2fe-4893-84ef-71fb5f452c42",
   "metadata": {},
   "source": [
    "### NPS Case Study Solution"
   ]
  },
  {
   "cell_type": "code",
   "execution_count": 10,
   "id": "38f4fcba-9db8-4589-a90d-52c72041c2c1",
   "metadata": {},
   "outputs": [],
   "source": [
    "detractors = score[score<=6]"
   ]
  },
  {
   "cell_type": "code",
   "execution_count": 12,
   "id": "811a0e78-c716-4985-96a2-1532e625cac7",
   "metadata": {},
   "outputs": [
    {
     "data": {
      "text/plain": [
       "array([5, 4, 4, 5, 1, 5, 5, 1, 4, 5, 4, 4, 4, 5, 1, 4, 1, 4, 1, 5, 5, 1,\n",
       "       1, 4, 1, 5, 4, 1, 1, 4, 1, 5, 1, 4, 4, 1, 1, 1, 1, 1, 1, 1, 4, 1,\n",
       "       1, 5, 5, 5, 4, 4, 1, 4, 1, 4, 1, 5, 1, 1, 5, 4, 4, 4, 4, 1, 4, 5,\n",
       "       4, 4, 1, 1, 5, 5, 1, 5, 1, 5, 5, 4, 5, 4, 1, 1, 1, 1, 4, 1, 4, 4,\n",
       "       5, 4, 1, 1, 1, 1, 5, 4, 5, 5, 4, 1, 5, 1, 4, 4, 1, 1, 1, 4, 4, 5,\n",
       "       5, 4, 5, 5, 5, 1, 4, 1, 5, 5, 1, 5, 1, 1, 5, 5, 4, 4, 1, 4, 4, 4,\n",
       "       1, 1, 4, 4, 4, 5, 5, 1, 1, 4, 1, 4, 1, 4, 1, 4, 1, 4, 1, 5, 4, 4,\n",
       "       5, 1, 4, 5, 5, 5, 1, 5, 4, 1, 1, 5, 5, 5, 4, 5, 4, 4, 1, 4, 4, 4,\n",
       "       4, 5, 1, 5, 5, 1, 4, 4, 5, 1, 1, 4, 5, 5, 5, 1, 4, 5, 5, 4, 1, 5,\n",
       "       5, 5, 1, 1, 5, 5, 1, 1, 1, 4, 5, 5, 4, 4, 4, 5, 1, 4, 1, 4, 5, 4,\n",
       "       5, 5, 1, 5, 1, 5, 5, 1, 4, 5, 5, 4, 1, 5, 1, 4, 1, 4, 1, 1, 1, 1,\n",
       "       1, 1, 4, 1, 5, 4, 5, 1, 5, 1, 5, 4, 4, 4, 4, 5, 5, 1, 4, 1, 5, 5,\n",
       "       1, 4, 1, 1, 4, 4, 4, 4, 1, 4, 1, 1, 4, 1, 5, 4, 1, 1, 5, 4, 5, 4,\n",
       "       4, 4, 1, 5, 5, 1, 4, 5, 4, 4, 4, 1, 4, 1, 4, 4, 4, 5, 1, 1, 1, 4,\n",
       "       5, 5, 1, 5, 4, 5, 5, 4, 1, 1, 5, 5, 5, 1, 4, 5, 4, 5, 5, 5, 1, 4,\n",
       "       1, 5])"
      ]
     },
     "execution_count": 12,
     "metadata": {},
     "output_type": "execute_result"
    }
   ],
   "source": [
    "detractors"
   ]
  },
  {
   "cell_type": "code",
   "execution_count": 13,
   "id": "3a22652a-7175-411f-92b9-d5f9abc01088",
   "metadata": {},
   "outputs": [],
   "source": [
    "promoters = score[score>=9]"
   ]
  },
  {
   "cell_type": "code",
   "execution_count": 26,
   "id": "d7f60252-cf81-4437-a3c0-366575f618b3",
   "metadata": {},
   "outputs": [],
   "source": [
    "tot_promoters = promoters.shape[0]"
   ]
  },
  {
   "cell_type": "code",
   "execution_count": 24,
   "id": "f9bb0730-68bb-46b2-bfed-7ce31a525bc8",
   "metadata": {},
   "outputs": [],
   "source": [
    "tot_detractors = detractors.shape[0]"
   ]
  },
  {
   "cell_type": "code",
   "execution_count": 20,
   "id": "4672bac2-7c98-4575-b3d3-0a4875dbec1f",
   "metadata": {},
   "outputs": [],
   "source": [
    "total = score.shape[0]"
   ]
  },
  {
   "cell_type": "code",
   "execution_count": 25,
   "id": "0d9bf482-5a8e-4ed7-a403-9e7e3bc40fa9",
   "metadata": {},
   "outputs": [],
   "source": [
    "detractor_per = round((tot_detractors/total)*100)"
   ]
  },
  {
   "cell_type": "code",
   "execution_count": 27,
   "id": "230649b4-bfd3-4ea0-a917-ca62e0518563",
   "metadata": {},
   "outputs": [],
   "source": [
    "promoter_per = round((tot_promoters/total)*100)"
   ]
  },
  {
   "cell_type": "code",
   "execution_count": 29,
   "id": "050eb85a-f833-4fac-83a4-049c7e45e644",
   "metadata": {},
   "outputs": [
    {
     "name": "stdout",
     "output_type": "stream",
     "text": [
      "Total Percentage for promoters is : 52% \n",
      "Total Percentage for promoters is : 28%\n"
     ]
    }
   ],
   "source": [
    "print(f\"Total Percentage for promoters is : {promoter_per}% \\nTotal Percentage for promoters is : {detractor_per}%\")"
   ]
  },
  {
   "cell_type": "markdown",
   "id": "55e29a81-0b2b-4d1d-b1ff-7b69f2532e6b",
   "metadata": {},
   "source": [
    "### 2D Matrix\n",
    "\n",
    "`arr.reshape(r,c)`"
   ]
  },
  {
   "cell_type": "code",
   "execution_count": 32,
   "id": "e88c19b9-8cc4-4c08-aef9-4d0c6459bf9c",
   "metadata": {},
   "outputs": [
    {
     "data": {
      "text/plain": [
       "(16,)"
      ]
     },
     "execution_count": 32,
     "metadata": {},
     "output_type": "execute_result"
    }
   ],
   "source": [
    "np.arange(16).shape"
   ]
  },
  {
   "cell_type": "code",
   "execution_count": 34,
   "id": "fc8d0b41-bbc2-463b-98c6-542ca17d6d92",
   "metadata": {},
   "outputs": [
    {
     "data": {
      "text/plain": [
       "array([[ 0,  1,  2,  3],\n",
       "       [ 4,  5,  6,  7],\n",
       "       [ 8,  9, 10, 11],\n",
       "       [12, 13, 14, 15]])"
      ]
     },
     "execution_count": 34,
     "metadata": {},
     "output_type": "execute_result"
    }
   ],
   "source": [
    "#Reshape\n",
    "np.arange(16).reshape(4,4)"
   ]
  },
  {
   "cell_type": "code",
   "execution_count": 36,
   "id": "093fd33f-748d-409b-868d-f386dacfb167",
   "metadata": {},
   "outputs": [
    {
     "ename": "ValueError",
     "evalue": "cannot reshape array of size 16 into shape (4,5)",
     "output_type": "error",
     "traceback": [
      "\u001b[1;31m---------------------------------------------------------------------------\u001b[0m",
      "\u001b[1;31mValueError\u001b[0m                                Traceback (most recent call last)",
      "Cell \u001b[1;32mIn[36], line 1\u001b[0m\n\u001b[1;32m----> 1\u001b[0m \u001b[43mnp\u001b[49m\u001b[38;5;241;43m.\u001b[39;49m\u001b[43marange\u001b[49m\u001b[43m(\u001b[49m\u001b[38;5;241;43m16\u001b[39;49m\u001b[43m)\u001b[49m\u001b[38;5;241;43m.\u001b[39;49m\u001b[43mreshape\u001b[49m\u001b[43m(\u001b[49m\u001b[38;5;241;43m4\u001b[39;49m\u001b[43m,\u001b[49m\u001b[38;5;241;43m5\u001b[39;49m\u001b[43m)\u001b[49m \u001b[38;5;66;03m# the r and c should be according to the data\u001b[39;00m\n",
      "\u001b[1;31mValueError\u001b[0m: cannot reshape array of size 16 into shape (4,5)"
     ]
    }
   ],
   "source": [
    "np.arange(16).reshape(4,5) # the r and c should be according to the data"
   ]
  },
  {
   "cell_type": "code",
   "execution_count": 37,
   "id": "fd34c6b1-efd0-4477-9a87-0de44b319011",
   "metadata": {},
   "outputs": [
    {
     "data": {
      "text/plain": [
       "(4, 4)"
      ]
     },
     "execution_count": 37,
     "metadata": {},
     "output_type": "execute_result"
    }
   ],
   "source": [
    "np.arange(16).reshape(4,4).shape"
   ]
  },
  {
   "cell_type": "markdown",
   "id": "2e260b30-a3df-477f-98a2-7daec2515764",
   "metadata": {},
   "source": [
    "### Task\n",
    "- Create an array - 10,20,30,...90\n",
    "- Reshape 3 x 3"
   ]
  },
  {
   "cell_type": "code",
   "execution_count": 43,
   "id": "9c56cf7c-29ca-42af-b5f3-61c2d2f981e4",
   "metadata": {},
   "outputs": [],
   "source": [
    "arr = np.arange(10,100,10)"
   ]
  },
  {
   "cell_type": "code",
   "execution_count": 44,
   "id": "ccea23be-cffd-4a64-bf1e-c3259efaa278",
   "metadata": {},
   "outputs": [
    {
     "data": {
      "text/plain": [
       "array([[10, 20, 30],\n",
       "       [40, 50, 60],\n",
       "       [70, 80, 90]])"
      ]
     },
     "execution_count": 44,
     "metadata": {},
     "output_type": "execute_result"
    }
   ],
   "source": [
    "arr.reshape(3,3)"
   ]
  },
  {
   "cell_type": "markdown",
   "id": "7acf5472-fe09-48c1-aee9-229dca12a2cb",
   "metadata": {},
   "source": [
    "### mention -1 to the column it will find out itself how to devide the columns and vice versa but we have to mention either row or column"
   ]
  },
  {
   "cell_type": "code",
   "execution_count": 47,
   "id": "a79eea8f-11ed-42b7-8499-1d2ffa65214e",
   "metadata": {},
   "outputs": [
    {
     "data": {
      "text/plain": [
       "array([[ 10,  20,  30,  40,  50],\n",
       "       [ 60,  70,  80,  90, 100]])"
      ]
     },
     "execution_count": 47,
     "metadata": {},
     "output_type": "execute_result"
    }
   ],
   "source": [
    "np.arange(10,110,10).reshape(2,-1)"
   ]
  },
  {
   "cell_type": "code",
   "execution_count": 48,
   "id": "a1a3f9f2-24d7-46d6-8af0-09d45dd09b5a",
   "metadata": {},
   "outputs": [
    {
     "data": {
      "text/plain": [
       "array([[ 10,  20,  30,  40,  50],\n",
       "       [ 60,  70,  80,  90, 100]])"
      ]
     },
     "execution_count": 48,
     "metadata": {},
     "output_type": "execute_result"
    }
   ],
   "source": [
    "np.arange(10,110,10).reshape(-1,5)"
   ]
  },
  {
   "cell_type": "code",
   "execution_count": 49,
   "id": "4562c2db-adcf-44b7-98dc-4d5707a0e0e5",
   "metadata": {},
   "outputs": [
    {
     "ename": "ValueError",
     "evalue": "can only specify one unknown dimension",
     "output_type": "error",
     "traceback": [
      "\u001b[1;31m---------------------------------------------------------------------------\u001b[0m",
      "\u001b[1;31mValueError\u001b[0m                                Traceback (most recent call last)",
      "Cell \u001b[1;32mIn[49], line 1\u001b[0m\n\u001b[1;32m----> 1\u001b[0m \u001b[43mnp\u001b[49m\u001b[38;5;241;43m.\u001b[39;49m\u001b[43marange\u001b[49m\u001b[43m(\u001b[49m\u001b[38;5;241;43m10\u001b[39;49m\u001b[43m,\u001b[49m\u001b[38;5;241;43m110\u001b[39;49m\u001b[43m,\u001b[49m\u001b[38;5;241;43m10\u001b[39;49m\u001b[43m)\u001b[49m\u001b[38;5;241;43m.\u001b[39;49m\u001b[43mreshape\u001b[49m\u001b[43m(\u001b[49m\u001b[38;5;241;43m-\u001b[39;49m\u001b[38;5;241;43m1\u001b[39;49m\u001b[43m,\u001b[49m\u001b[38;5;241;43m-\u001b[39;49m\u001b[38;5;241;43m1\u001b[39;49m\u001b[43m)\u001b[49m\n",
      "\u001b[1;31mValueError\u001b[0m: can only specify one unknown dimension"
     ]
    }
   ],
   "source": [
    "np.arange(10,110,10).reshape(-1,-1)"
   ]
  },
  {
   "cell_type": "markdown",
   "id": "eaeebe2d-0976-408f-af0e-0f57fc053a39",
   "metadata": {},
   "source": [
    "# Indexing"
   ]
  },
  {
   "cell_type": "code",
   "execution_count": 50,
   "id": "d6bee823-a0be-48b6-b186-34bce7a163a6",
   "metadata": {},
   "outputs": [],
   "source": [
    "arr = np.arange(9)"
   ]
  },
  {
   "cell_type": "code",
   "execution_count": 52,
   "id": "0158bc2d-a3c2-4581-aa2c-8b573e2b5e89",
   "metadata": {},
   "outputs": [
    {
     "data": {
      "text/plain": [
       "array([3, 4, 5, 6, 7, 8])"
      ]
     },
     "execution_count": 52,
     "metadata": {},
     "output_type": "execute_result"
    }
   ],
   "source": [
    "arr[3:]"
   ]
  },
  {
   "cell_type": "code",
   "execution_count": 53,
   "id": "1dd0c7bb-cb43-479b-af90-aa0462b24c9b",
   "metadata": {},
   "outputs": [
    {
     "data": {
      "text/plain": [
       "array([0, 1, 2, 3, 4])"
      ]
     },
     "execution_count": 53,
     "metadata": {},
     "output_type": "execute_result"
    }
   ],
   "source": [
    "arr[:5]"
   ]
  },
  {
   "cell_type": "code",
   "execution_count": 54,
   "id": "65c2163f-95ee-4dbe-9bed-98add947ae19",
   "metadata": {},
   "outputs": [
    {
     "data": {
      "text/plain": [
       "array([3, 6, 8])"
      ]
     },
     "execution_count": 54,
     "metadata": {},
     "output_type": "execute_result"
    }
   ],
   "source": [
    "arr[[3,6,8]]"
   ]
  },
  {
   "cell_type": "code",
   "execution_count": 55,
   "id": "b11ea642-dcb2-4f19-bc2d-657827da26c5",
   "metadata": {},
   "outputs": [
    {
     "data": {
      "text/plain": [
       "array([ 10,  20,  30,  40,  50,  60,  70,  80,  90, 100])"
      ]
     },
     "execution_count": 55,
     "metadata": {},
     "output_type": "execute_result"
    }
   ],
   "source": [
    "np.arange(10,101,10)"
   ]
  },
  {
   "cell_type": "markdown",
   "id": "af161c76-cd14-4cc3-adff-457535124c28",
   "metadata": {},
   "source": [
    "### Indexing with 2D Arrays"
   ]
  },
  {
   "cell_type": "code",
   "execution_count": 57,
   "id": "6bf1bcdd-546f-408e-8182-6791262799d6",
   "metadata": {},
   "outputs": [],
   "source": [
    "arr = np.arange(9).reshape(3,3)"
   ]
  },
  {
   "cell_type": "code",
   "execution_count": 58,
   "id": "62aa3ca5-4fe3-4d56-bf8d-58c20d0bb2a9",
   "metadata": {},
   "outputs": [
    {
     "data": {
      "text/plain": [
       "array([[0, 1, 2],\n",
       "       [3, 4, 5],\n",
       "       [6, 7, 8]])"
      ]
     },
     "execution_count": 58,
     "metadata": {},
     "output_type": "execute_result"
    }
   ],
   "source": [
    "arr"
   ]
  },
  {
   "cell_type": "code",
   "execution_count": 59,
   "id": "a2deafb9-4f62-4a8a-a44d-c47e105df1c5",
   "metadata": {},
   "outputs": [
    {
     "data": {
      "text/plain": [
       "4"
      ]
     },
     "execution_count": 59,
     "metadata": {},
     "output_type": "execute_result"
    }
   ],
   "source": [
    "arr[1][1]"
   ]
  },
  {
   "cell_type": "code",
   "execution_count": 61,
   "id": "4498325e-41ec-4e3b-945c-7c78278fc207",
   "metadata": {},
   "outputs": [
    {
     "data": {
      "text/plain": [
       "4"
      ]
     },
     "execution_count": 61,
     "metadata": {},
     "output_type": "execute_result"
    }
   ],
   "source": [
    "arr[1,1] #arr[r,c]"
   ]
  },
  {
   "cell_type": "code",
   "execution_count": 64,
   "id": "78c1f599-98a4-4861-b8cc-8716bf21ffb9",
   "metadata": {},
   "outputs": [
    {
     "data": {
      "text/plain": [
       "array([[3, 4],\n",
       "       [6, 7]])"
      ]
     },
     "execution_count": 64,
     "metadata": {},
     "output_type": "execute_result"
    }
   ],
   "source": [
    "arr[1:3,0:2]"
   ]
  },
  {
   "cell_type": "code",
   "execution_count": 72,
   "id": "7e667783-e032-4d06-9c35-7afdea492ece",
   "metadata": {},
   "outputs": [
    {
     "data": {
      "text/plain": [
       "array([[4],\n",
       "       [7]])"
      ]
     },
     "execution_count": 72,
     "metadata": {},
     "output_type": "execute_result"
    }
   ],
   "source": [
    "arr[1:3,1:2]"
   ]
  },
  {
   "cell_type": "code",
   "execution_count": 73,
   "id": "7256e64c-9a4b-485c-bd98-5cc9b7f71a3e",
   "metadata": {},
   "outputs": [
    {
     "data": {
      "text/plain": [
       "array([4, 7])"
      ]
     },
     "execution_count": 73,
     "metadata": {},
     "output_type": "execute_result"
    }
   ],
   "source": [
    "arr[1:3,1]"
   ]
  },
  {
   "cell_type": "code",
   "execution_count": 74,
   "id": "84ebcc2c-ba47-41ed-a360-b9c5e5dc3a2a",
   "metadata": {},
   "outputs": [
    {
     "data": {
      "text/plain": [
       "array([[3, 4, 5],\n",
       "       [6, 7, 8]])"
      ]
     },
     "execution_count": 74,
     "metadata": {},
     "output_type": "execute_result"
    }
   ],
   "source": [
    "arr[[1,2]]"
   ]
  },
  {
   "cell_type": "code",
   "execution_count": 77,
   "id": "b51e281c-cc1f-4b60-9197-64090217a76c",
   "metadata": {},
   "outputs": [
    {
     "ename": "IndexError",
     "evalue": "index 3 is out of bounds for axis 0 with size 3",
     "output_type": "error",
     "traceback": [
      "\u001b[1;31m---------------------------------------------------------------------------\u001b[0m",
      "\u001b[1;31mIndexError\u001b[0m                                Traceback (most recent call last)",
      "Cell \u001b[1;32mIn[77], line 1\u001b[0m\n\u001b[1;32m----> 1\u001b[0m \u001b[43marr\u001b[49m\u001b[43m[\u001b[49m\u001b[43m[\u001b[49m\u001b[38;5;241;43m1\u001b[39;49m\u001b[43m,\u001b[49m\u001b[38;5;241;43m2\u001b[39;49m\u001b[43m,\u001b[49m\u001b[38;5;241;43m3\u001b[39;49m\u001b[43m]\u001b[49m\u001b[43m]\u001b[49m \u001b[38;5;66;03m# will throw error because index 3 is not present\u001b[39;00m\n",
      "\u001b[1;31mIndexError\u001b[0m: index 3 is out of bounds for axis 0 with size 3"
     ]
    }
   ],
   "source": [
    "arr[[1,2,3]] # will throw error because index 3 is not present"
   ]
  },
  {
   "cell_type": "code",
   "execution_count": 76,
   "id": "00a8ab5d-7ff2-4439-a076-20164a7aab0b",
   "metadata": {},
   "outputs": [
    {
     "data": {
      "text/plain": [
       "array([0, 4, 8])"
      ]
     },
     "execution_count": 76,
     "metadata": {},
     "output_type": "execute_result"
    }
   ],
   "source": [
    "arr[[0,1,2],[0,1,2]] # concider as r1,r2,r3 and c1,c2,c3"
   ]
  },
  {
   "cell_type": "code",
   "execution_count": 83,
   "id": "ec6cb30c-594e-4a20-99fb-fa57ccd5396d",
   "metadata": {},
   "outputs": [
    {
     "data": {
      "text/plain": [
       "array([[0, 1, 2, 3, 4, 5, 6, 7, 8]])"
      ]
     },
     "execution_count": 83,
     "metadata": {},
     "output_type": "execute_result"
    }
   ],
   "source": []
  },
  {
   "cell_type": "markdown",
   "id": "6edc274e-569e-4dbe-be5a-1ca1b8244ad1",
   "metadata": {},
   "source": [
    "# Quiz"
   ]
  },
  {
   "cell_type": "code",
   "execution_count": 95,
   "id": "ca9035db-640e-4dff-b004-c184f5aabff9",
   "metadata": {},
   "outputs": [],
   "source": [
    "a = [1,2,3,4,5,6,7,8,9]\n",
    "b = [8,7,6]\n",
    "a[3:] = b[::-2]"
   ]
  },
  {
   "cell_type": "code",
   "execution_count": 103,
   "id": "63c20ccb-d9b0-40f6-b90b-1f1669e5ab61",
   "metadata": {},
   "outputs": [
    {
     "data": {
      "text/plain": [
       "[1, 2, 3, 6, 8]"
      ]
     },
     "execution_count": 103,
     "metadata": {},
     "output_type": "execute_result"
    }
   ],
   "source": [
    "a #answer"
   ]
  },
  {
   "cell_type": "code",
   "execution_count": 97,
   "id": "02fb4de0-8377-4441-8f33-350eaae8c3ae",
   "metadata": {},
   "outputs": [
    {
     "data": {
      "text/plain": [
       "array([1, 3, 4])"
      ]
     },
     "execution_count": 97,
     "metadata": {},
     "output_type": "execute_result"
    }
   ],
   "source": [
    "arr[[0,1,1],[1,0,1]]"
   ]
  },
  {
   "cell_type": "code",
   "execution_count": 98,
   "id": "2962df33-8efe-4ae5-a922-c7dae91f075b",
   "metadata": {},
   "outputs": [],
   "source": [
    "arr = np.arange(12).reshape(3,4)"
   ]
  },
  {
   "cell_type": "code",
   "execution_count": 99,
   "id": "bfddf561-d713-4f21-8a0a-298d26dd9735",
   "metadata": {},
   "outputs": [
    {
     "data": {
      "text/plain": [
       "array([[ 0,  1,  2,  3],\n",
       "       [ 4,  5,  6,  7],\n",
       "       [ 8,  9, 10, 11]])"
      ]
     },
     "execution_count": 99,
     "metadata": {},
     "output_type": "execute_result"
    }
   ],
   "source": [
    "arr"
   ]
  },
  {
   "cell_type": "code",
   "execution_count": 102,
   "id": "091edd30-5329-4e7b-964b-fcbbf5d27e6d",
   "metadata": {},
   "outputs": [
    {
     "data": {
      "text/plain": [
       "array([ 7,  8,  9, 10, 11])"
      ]
     },
     "execution_count": 102,
     "metadata": {},
     "output_type": "execute_result"
    }
   ],
   "source": [
    "# Every elemnt greater than 6\n",
    "arr[arr>6]"
   ]
  },
  {
   "cell_type": "markdown",
   "id": "dadbf27f-a5f6-4229-b510-fee2f1db462b",
   "metadata": {},
   "source": [
    "# Quiz"
   ]
  },
  {
   "cell_type": "code",
   "execution_count": 104,
   "id": "e5b3c9b9-7822-4260-88e5-0fa25400320d",
   "metadata": {},
   "outputs": [],
   "source": [
    "a = np.arange(6)"
   ]
  },
  {
   "cell_type": "code",
   "execution_count": 105,
   "id": "846808e0-cb8d-4137-8ef2-1f7951341a6a",
   "metadata": {},
   "outputs": [
    {
     "data": {
      "text/plain": [
       "array([0, 1, 2, 3, 4, 5])"
      ]
     },
     "execution_count": 105,
     "metadata": {},
     "output_type": "execute_result"
    }
   ],
   "source": [
    "a"
   ]
  },
  {
   "cell_type": "code",
   "execution_count": 106,
   "id": "5de28d1b-e7e0-4d4c-ac7a-6c3c11e0e17a",
   "metadata": {},
   "outputs": [],
   "source": [
    "mask = (a%2 == 0)"
   ]
  },
  {
   "cell_type": "code",
   "execution_count": 107,
   "id": "fd22ee5b-27c8-4072-86eb-9570a5997e05",
   "metadata": {},
   "outputs": [],
   "source": [
    "a[mask] = -1"
   ]
  },
  {
   "cell_type": "code",
   "execution_count": 108,
   "id": "c3ef5291-256b-4bf4-84f6-80d527d18c43",
   "metadata": {},
   "outputs": [
    {
     "data": {
      "text/plain": [
       "array([-1,  1, -1,  3, -1,  5])"
      ]
     },
     "execution_count": 108,
     "metadata": {},
     "output_type": "execute_result"
    }
   ],
   "source": [
    "a"
   ]
  },
  {
   "cell_type": "markdown",
   "id": "b41611ca-ebf6-4f69-8be8-ba21319da47b",
   "metadata": {},
   "source": [
    "# Aggregate Functions\n",
    "\n",
    "\n",
    "### axis \n",
    "- 0 = column\n",
    "- 1 = row"
   ]
  },
  {
   "cell_type": "code",
   "execution_count": 122,
   "id": "6f4d3217-78d5-454b-b4c3-80984ca889e7",
   "metadata": {},
   "outputs": [],
   "source": [
    "arr = np.arange(1,1000,23/7).reshape(5,-1)"
   ]
  },
  {
   "cell_type": "code",
   "execution_count": 123,
   "id": "9322469f-2aa8-4085-bd57-fa440c58d7d3",
   "metadata": {},
   "outputs": [
    {
     "data": {
      "text/plain": [
       "array([[  1.        ,   4.28571429,   7.57142857,  10.85714286,\n",
       "         14.14285714,  17.42857143,  20.71428571,  24.        ,\n",
       "         27.28571429,  30.57142857,  33.85714286,  37.14285714,\n",
       "         40.42857143,  43.71428571,  47.        ,  50.28571429,\n",
       "         53.57142857,  56.85714286,  60.14285714,  63.42857143,\n",
       "         66.71428571,  70.        ,  73.28571429,  76.57142857,\n",
       "         79.85714286,  83.14285714,  86.42857143,  89.71428571,\n",
       "         93.        ,  96.28571429,  99.57142857, 102.85714286,\n",
       "        106.14285714, 109.42857143, 112.71428571, 116.        ,\n",
       "        119.28571429, 122.57142857, 125.85714286, 129.14285714,\n",
       "        132.42857143, 135.71428571, 139.        , 142.28571429,\n",
       "        145.57142857, 148.85714286, 152.14285714, 155.42857143,\n",
       "        158.71428571, 162.        , 165.28571429, 168.57142857,\n",
       "        171.85714286, 175.14285714, 178.42857143, 181.71428571,\n",
       "        185.        , 188.28571429, 191.57142857, 194.85714286,\n",
       "        198.14285714],\n",
       "       [201.42857143, 204.71428571, 208.        , 211.28571429,\n",
       "        214.57142857, 217.85714286, 221.14285714, 224.42857143,\n",
       "        227.71428571, 231.        , 234.28571429, 237.57142857,\n",
       "        240.85714286, 244.14285714, 247.42857143, 250.71428571,\n",
       "        254.        , 257.28571429, 260.57142857, 263.85714286,\n",
       "        267.14285714, 270.42857143, 273.71428571, 277.        ,\n",
       "        280.28571429, 283.57142857, 286.85714286, 290.14285714,\n",
       "        293.42857143, 296.71428571, 300.        , 303.28571429,\n",
       "        306.57142857, 309.85714286, 313.14285714, 316.42857143,\n",
       "        319.71428571, 323.        , 326.28571429, 329.57142857,\n",
       "        332.85714286, 336.14285714, 339.42857143, 342.71428571,\n",
       "        346.        , 349.28571429, 352.57142857, 355.85714286,\n",
       "        359.14285714, 362.42857143, 365.71428571, 369.        ,\n",
       "        372.28571429, 375.57142857, 378.85714286, 382.14285714,\n",
       "        385.42857143, 388.71428571, 392.        , 395.28571429,\n",
       "        398.57142857],\n",
       "       [401.85714286, 405.14285714, 408.42857143, 411.71428571,\n",
       "        415.        , 418.28571429, 421.57142857, 424.85714286,\n",
       "        428.14285714, 431.42857143, 434.71428571, 438.        ,\n",
       "        441.28571429, 444.57142857, 447.85714286, 451.14285714,\n",
       "        454.42857143, 457.71428571, 461.        , 464.28571429,\n",
       "        467.57142857, 470.85714286, 474.14285714, 477.42857143,\n",
       "        480.71428571, 484.        , 487.28571429, 490.57142857,\n",
       "        493.85714286, 497.14285714, 500.42857143, 503.71428571,\n",
       "        507.        , 510.28571429, 513.57142857, 516.85714286,\n",
       "        520.14285714, 523.42857143, 526.71428571, 530.        ,\n",
       "        533.28571429, 536.57142857, 539.85714286, 543.14285714,\n",
       "        546.42857143, 549.71428571, 553.        , 556.28571429,\n",
       "        559.57142857, 562.85714286, 566.14285714, 569.42857143,\n",
       "        572.71428571, 576.        , 579.28571429, 582.57142857,\n",
       "        585.85714286, 589.14285714, 592.42857143, 595.71428571,\n",
       "        599.        ],\n",
       "       [602.28571429, 605.57142857, 608.85714286, 612.14285714,\n",
       "        615.42857143, 618.71428571, 622.        , 625.28571429,\n",
       "        628.57142857, 631.85714286, 635.14285714, 638.42857143,\n",
       "        641.71428571, 645.        , 648.28571429, 651.57142857,\n",
       "        654.85714286, 658.14285714, 661.42857143, 664.71428571,\n",
       "        668.        , 671.28571429, 674.57142857, 677.85714286,\n",
       "        681.14285714, 684.42857143, 687.71428571, 691.        ,\n",
       "        694.28571429, 697.57142857, 700.85714286, 704.14285714,\n",
       "        707.42857143, 710.71428571, 714.        , 717.28571429,\n",
       "        720.57142857, 723.85714286, 727.14285714, 730.42857143,\n",
       "        733.71428571, 737.        , 740.28571429, 743.57142857,\n",
       "        746.85714286, 750.14285714, 753.42857143, 756.71428571,\n",
       "        760.        , 763.28571429, 766.57142857, 769.85714286,\n",
       "        773.14285714, 776.42857143, 779.71428571, 783.        ,\n",
       "        786.28571429, 789.57142857, 792.85714286, 796.14285714,\n",
       "        799.42857143],\n",
       "       [802.71428571, 806.        , 809.28571429, 812.57142857,\n",
       "        815.85714286, 819.14285714, 822.42857143, 825.71428571,\n",
       "        829.        , 832.28571429, 835.57142857, 838.85714286,\n",
       "        842.14285714, 845.42857143, 848.71428571, 852.        ,\n",
       "        855.28571429, 858.57142857, 861.85714286, 865.14285714,\n",
       "        868.42857143, 871.71428571, 875.        , 878.28571429,\n",
       "        881.57142857, 884.85714286, 888.14285714, 891.42857143,\n",
       "        894.71428571, 898.        , 901.28571429, 904.57142857,\n",
       "        907.85714286, 911.14285714, 914.42857143, 917.71428571,\n",
       "        921.        , 924.28571429, 927.57142857, 930.85714286,\n",
       "        934.14285714, 937.42857143, 940.71428571, 944.        ,\n",
       "        947.28571429, 950.57142857, 953.85714286, 957.14285714,\n",
       "        960.42857143, 963.71428571, 967.        , 970.28571429,\n",
       "        973.57142857, 976.85714286, 980.14285714, 983.42857143,\n",
       "        986.71428571, 990.        , 993.28571429, 996.57142857,\n",
       "        999.85714286]])"
      ]
     },
     "execution_count": 123,
     "metadata": {},
     "output_type": "execute_result"
    }
   ],
   "source": [
    "arr"
   ]
  },
  {
   "cell_type": "code",
   "execution_count": 124,
   "id": "9683a9b5-8117-4093-8c44-97fe95c97c5a",
   "metadata": {},
   "outputs": [
    {
     "data": {
      "text/plain": [
       "1.0"
      ]
     },
     "execution_count": 124,
     "metadata": {},
     "output_type": "execute_result"
    }
   ],
   "source": [
    "np.min(arr)"
   ]
  },
  {
   "cell_type": "code",
   "execution_count": 125,
   "id": "cfdb0c42-b621-4012-a14d-c8c2534a21f7",
   "metadata": {},
   "outputs": [
    {
     "data": {
      "text/plain": [
       "1.0"
      ]
     },
     "execution_count": 125,
     "metadata": {},
     "output_type": "execute_result"
    }
   ],
   "source": [
    "arr.min()"
   ]
  },
  {
   "cell_type": "code",
   "execution_count": 126,
   "id": "ff81535e-70aa-4e20-9867-4ec82d92488b",
   "metadata": {},
   "outputs": [
    {
     "data": {
      "text/plain": [
       "999.8571428571428"
      ]
     },
     "execution_count": 126,
     "metadata": {},
     "output_type": "execute_result"
    }
   ],
   "source": [
    "np.max(arr)"
   ]
  },
  {
   "cell_type": "code",
   "execution_count": 127,
   "id": "b4b9c139-2dac-45f4-b559-7d8d701e668a",
   "metadata": {},
   "outputs": [
    {
     "data": {
      "text/plain": [
       "500.42857142857133"
      ]
     },
     "execution_count": 127,
     "metadata": {},
     "output_type": "execute_result"
    }
   ],
   "source": [
    "np.mean(arr)"
   ]
  },
  {
   "cell_type": "code",
   "execution_count": 128,
   "id": "8b46420b-1ba0-4057-b509-4797ecb09053",
   "metadata": {},
   "outputs": [
    {
     "data": {
      "text/plain": [
       "500.4285714285714"
      ]
     },
     "execution_count": 128,
     "metadata": {},
     "output_type": "execute_result"
    }
   ],
   "source": [
    "np.median(arr)"
   ]
  },
  {
   "cell_type": "code",
   "execution_count": 129,
   "id": "39ea1733-a943-46fa-b6dd-58bfec03afa5",
   "metadata": {},
   "outputs": [
    {
     "data": {
      "text/plain": [
       "array([  1.        , 201.42857143, 401.85714286, 602.28571429,\n",
       "       802.71428571])"
      ]
     },
     "execution_count": 129,
     "metadata": {},
     "output_type": "execute_result"
    }
   ],
   "source": [
    "np.min(arr,axis=1)"
   ]
  },
  {
   "cell_type": "code",
   "execution_count": 130,
   "id": "0b243a69-5b27-4754-9d5d-5fd67f07f344",
   "metadata": {},
   "outputs": [
    {
     "data": {
      "text/plain": [
       "array([802.71428571, 806.        , 809.28571429, 812.57142857,\n",
       "       815.85714286, 819.14285714, 822.42857143, 825.71428571,\n",
       "       829.        , 832.28571429, 835.57142857, 838.85714286,\n",
       "       842.14285714, 845.42857143, 848.71428571, 852.        ,\n",
       "       855.28571429, 858.57142857, 861.85714286, 865.14285714,\n",
       "       868.42857143, 871.71428571, 875.        , 878.28571429,\n",
       "       881.57142857, 884.85714286, 888.14285714, 891.42857143,\n",
       "       894.71428571, 898.        , 901.28571429, 904.57142857,\n",
       "       907.85714286, 911.14285714, 914.42857143, 917.71428571,\n",
       "       921.        , 924.28571429, 927.57142857, 930.85714286,\n",
       "       934.14285714, 937.42857143, 940.71428571, 944.        ,\n",
       "       947.28571429, 950.57142857, 953.85714286, 957.14285714,\n",
       "       960.42857143, 963.71428571, 967.        , 970.28571429,\n",
       "       973.57142857, 976.85714286, 980.14285714, 983.42857143,\n",
       "       986.71428571, 990.        , 993.28571429, 996.57142857,\n",
       "       999.85714286])"
      ]
     },
     "execution_count": 130,
     "metadata": {},
     "output_type": "execute_result"
    }
   ],
   "source": [
    "np.max(arr,axis=0)"
   ]
  },
  {
   "cell_type": "code",
   "execution_count": 131,
   "id": "967f178a-929a-4f88-aefa-0b6076e59dcc",
   "metadata": {},
   "outputs": [
    {
     "data": {
      "text/plain": [
       "array([198.14285714, 398.57142857, 599.        , 799.42857143,\n",
       "       999.85714286])"
      ]
     },
     "execution_count": 131,
     "metadata": {},
     "output_type": "execute_result"
    }
   ],
   "source": [
    "np.max(arr,axis=1)"
   ]
  },
  {
   "cell_type": "code",
   "execution_count": 132,
   "id": "c36967ea-4a0f-4d88-a9df-d3447e3382ba",
   "metadata": {},
   "outputs": [
    {
     "data": {
      "text/plain": [
       "array([ 99.57142857, 300.        , 500.42857143, 700.85714286,\n",
       "       901.28571429])"
      ]
     },
     "execution_count": 132,
     "metadata": {},
     "output_type": "execute_result"
    }
   ],
   "source": [
    "np.median(arr,axis=1)"
   ]
  },
  {
   "cell_type": "code",
   "execution_count": 133,
   "id": "321dc310-4c3b-4699-b935-df8aa1ec82e7",
   "metadata": {},
   "outputs": [
    {
     "data": {
      "text/plain": [
       "array([401.85714286, 405.14285714, 408.42857143, 411.71428571,\n",
       "       415.        , 418.28571429, 421.57142857, 424.85714286,\n",
       "       428.14285714, 431.42857143, 434.71428571, 438.        ,\n",
       "       441.28571429, 444.57142857, 447.85714286, 451.14285714,\n",
       "       454.42857143, 457.71428571, 461.        , 464.28571429,\n",
       "       467.57142857, 470.85714286, 474.14285714, 477.42857143,\n",
       "       480.71428571, 484.        , 487.28571429, 490.57142857,\n",
       "       493.85714286, 497.14285714, 500.42857143, 503.71428571,\n",
       "       507.        , 510.28571429, 513.57142857, 516.85714286,\n",
       "       520.14285714, 523.42857143, 526.71428571, 530.        ,\n",
       "       533.28571429, 536.57142857, 539.85714286, 543.14285714,\n",
       "       546.42857143, 549.71428571, 553.        , 556.28571429,\n",
       "       559.57142857, 562.85714286, 566.14285714, 569.42857143,\n",
       "       572.71428571, 576.        , 579.28571429, 582.57142857,\n",
       "       585.85714286, 589.14285714, 592.42857143, 595.71428571,\n",
       "       599.        ])"
      ]
     },
     "execution_count": 133,
     "metadata": {},
     "output_type": "execute_result"
    }
   ],
   "source": [
    "np.median(arr,axis=0)"
   ]
  },
  {
   "cell_type": "code",
   "execution_count": 134,
   "id": "7f423e5a-d621-4b3b-9e9b-ac1742be8bdf",
   "metadata": {},
   "outputs": [
    {
     "data": {
      "text/plain": [
       "array([ 6073.85714286, 18300.        , 30526.14285714, 42752.28571429,\n",
       "       54978.42857143])"
      ]
     },
     "execution_count": 134,
     "metadata": {},
     "output_type": "execute_result"
    }
   ],
   "source": [
    "np.sum(arr,axis=1)"
   ]
  },
  {
   "cell_type": "code",
   "execution_count": 136,
   "id": "1cee48b4-49d4-45b9-95a0-cbb9841e29b8",
   "metadata": {},
   "outputs": [],
   "source": [
    "prices = np.array([10,20,25,40,50])"
   ]
  },
  {
   "cell_type": "code",
   "execution_count": 137,
   "id": "3480051f-eb57-4e23-beea-377cfd8440eb",
   "metadata": {},
   "outputs": [],
   "source": [
    "budget = 50"
   ]
  },
  {
   "cell_type": "code",
   "execution_count": 145,
   "id": "59b69911-6a2a-451b-8014-b78259dec13c",
   "metadata": {},
   "outputs": [],
   "source": [
    "mask = prices>budget"
   ]
  },
  {
   "cell_type": "code",
   "execution_count": 142,
   "id": "c0e33b4b-d061-4cef-bace-3811c9a7c0c0",
   "metadata": {},
   "outputs": [
    {
     "data": {
      "text/plain": [
       "array([False, False, False, False, False])"
      ]
     },
     "execution_count": 142,
     "metadata": {},
     "output_type": "execute_result"
    }
   ],
   "source": [
    "mask"
   ]
  },
  {
   "cell_type": "code",
   "execution_count": 141,
   "id": "efe0e951-543f-4691-a959-4124f91ca770",
   "metadata": {},
   "outputs": [
    {
     "data": {
      "text/plain": [
       "False"
      ]
     },
     "execution_count": 141,
     "metadata": {},
     "output_type": "execute_result"
    }
   ],
   "source": [
    "np.any(mask)"
   ]
  },
  {
   "cell_type": "code",
   "execution_count": 143,
   "id": "a398de64-9e8f-488e-b46b-7c0f564aeab7",
   "metadata": {},
   "outputs": [],
   "source": [
    "budget = 20"
   ]
  },
  {
   "cell_type": "code",
   "execution_count": 146,
   "id": "4f623194-c8c0-43d9-af80-4faa67e1d644",
   "metadata": {},
   "outputs": [
    {
     "data": {
      "text/plain": [
       "array([False, False,  True,  True,  True])"
      ]
     },
     "execution_count": 146,
     "metadata": {},
     "output_type": "execute_result"
    }
   ],
   "source": [
    "mask"
   ]
  },
  {
   "cell_type": "code",
   "execution_count": 148,
   "id": "fee8b1bd-c976-40dd-9d2c-42518ac3aa63",
   "metadata": {},
   "outputs": [
    {
     "data": {
      "text/plain": [
       "True"
      ]
     },
     "execution_count": 148,
     "metadata": {},
     "output_type": "execute_result"
    }
   ],
   "source": [
    "np.any(mask) # If even a single value is true it will give the output as true"
   ]
  },
  {
   "cell_type": "code",
   "execution_count": 150,
   "id": "6180d99f-c212-4353-bc86-d12160d232d2",
   "metadata": {},
   "outputs": [
    {
     "data": {
      "text/plain": [
       "False"
      ]
     },
     "execution_count": 150,
     "metadata": {},
     "output_type": "execute_result"
    }
   ],
   "source": [
    "np.all(mask) # if only all the values are true it will return the true"
   ]
  },
  {
   "cell_type": "code",
   "execution_count": 155,
   "id": "db098dfa-0d0e-4239-bf6c-176956405939",
   "metadata": {},
   "outputs": [
    {
     "data": {
      "text/plain": [
       "array(['wohoooo', '20', '25', '40', '50'], dtype='<U11')"
      ]
     },
     "execution_count": 155,
     "metadata": {},
     "output_type": "execute_result"
    }
   ],
   "source": [
    "np.where(prices<20,\"wohoooo\",prices) #np.where(condition,true_action,false_action)"
   ]
  },
  {
   "cell_type": "code",
   "execution_count": 156,
   "id": "2d367215-dda6-41a7-b1d4-1dace81da6e1",
   "metadata": {},
   "outputs": [
    {
     "data": {
      "text/plain": [
       "(array([0, 1, 2, 3, 4], dtype=int64),)"
      ]
     },
     "execution_count": 156,
     "metadata": {},
     "output_type": "execute_result"
    }
   ],
   "source": [
    "np.where(prices)"
   ]
  },
  {
   "cell_type": "code",
   "execution_count": 157,
   "id": "2c4ad2bc-4677-4e41-8d06-a036c430b53c",
   "metadata": {},
   "outputs": [
    {
     "data": {
      "text/plain": [
       "array([10, 20, 25, 40, 50])"
      ]
     },
     "execution_count": 157,
     "metadata": {},
     "output_type": "execute_result"
    }
   ],
   "source": [
    "prices"
   ]
  },
  {
   "cell_type": "markdown",
   "id": "63231c0e-f966-4dc6-abdf-aeb8150e5d83",
   "metadata": {},
   "source": [
    "# FitBit Case Study"
   ]
  },
  {
   "cell_type": "code",
   "execution_count": 159,
   "id": "e4b72348-cf37-4c89-899b-9df6e550b66c",
   "metadata": {
    "editable": true,
    "slideshow": {
     "slide_type": ""
    },
    "tags": []
   },
   "outputs": [],
   "source": [
    "data = np.loadtxt(\"Files/fit.txt\",dtype=str)"
   ]
  },
  {
   "cell_type": "code",
   "execution_count": 160,
   "id": "b77ee5bf-9819-49ee-9b58-f966175180c1",
   "metadata": {},
   "outputs": [
    {
     "data": {
      "text/plain": [
       "array([['06-10-2017', '5464', 'Neutral', '181', '5', 'Inactive'],\n",
       "       ['07-10-2017', '6041', 'Sad', '197', '8', 'Inactive'],\n",
       "       ['08-10-2017', '25', 'Sad', '0', '5', 'Inactive'],\n",
       "       ['09-10-2017', '5461', 'Sad', '174', '4', 'Inactive'],\n",
       "       ['10-10-2017', '6915', 'Neutral', '223', '5', 'Active'],\n",
       "       ['11-10-2017', '4545', 'Sad', '149', '6', 'Inactive'],\n",
       "       ['12-10-2017', '4340', 'Sad', '140', '6', 'Inactive'],\n",
       "       ['13-10-2017', '1230', 'Sad', '38', '7', 'Inactive'],\n",
       "       ['14-10-2017', '61', 'Sad', '1', '5', 'Inactive'],\n",
       "       ['15-10-2017', '1258', 'Sad', '40', '6', 'Inactive'],\n",
       "       ['16-10-2017', '3148', 'Sad', '101', '8', 'Inactive'],\n",
       "       ['17-10-2017', '4687', 'Sad', '152', '5', 'Inactive'],\n",
       "       ['18-10-2017', '4732', 'Happy', '150', '6', 'Active'],\n",
       "       ['19-10-2017', '3519', 'Sad', '113', '7', 'Inactive'],\n",
       "       ['20-10-2017', '1580', 'Sad', '49', '5', 'Inactive'],\n",
       "       ['21-10-2017', '2822', 'Sad', '86', '6', 'Inactive'],\n",
       "       ['22-10-2017', '181', 'Sad', '6', '8', 'Inactive'],\n",
       "       ['23-10-2017', '3158', 'Neutral', '99', '5', 'Inactive'],\n",
       "       ['24-10-2017', '4383', 'Neutral', '143', '4', 'Inactive'],\n",
       "       ['25-10-2017', '3881', 'Neutral', '125', '5', 'Inactive'],\n",
       "       ['26-10-2017', '4037', 'Neutral', '129', '6', 'Inactive'],\n",
       "       ['27-10-2017', '202', 'Neutral', '6', '8', 'Inactive'],\n",
       "       ['28-10-2017', '292', 'Neutral', '9', '5', 'Inactive'],\n",
       "       ['29-10-2017', '330', 'Happy', '10', '6', 'Inactive'],\n",
       "       ['30-10-2017', '2209', 'Neutral', '72', '5', 'Inactive'],\n",
       "       ['31-10-2017', '4550', 'Happy', '150', '8', 'Active'],\n",
       "       ['01-11-2017', '4435', 'Happy', '141', '5', 'Inactive'],\n",
       "       ['02-11-2017', '4779', 'Happy', '156', '4', 'Inactive'],\n",
       "       ['03-11-2017', '1831', 'Happy', '57', '5', 'Inactive'],\n",
       "       ['04-11-2017', '2255', 'Happy', '72', '4', 'Inactive'],\n",
       "       ['05-11-2017', '539', 'Happy', '17', '5', 'Active'],\n",
       "       ['06-11-2017', '5464', 'Happy', '181', '4', 'Inactive'],\n",
       "       ['07-11-2017', '6041', 'Neutral', '197', '3', 'Inactive'],\n",
       "       ['08-11-2017', '4068', 'Happy', '131', '2', 'Inactive'],\n",
       "       ['09-11-2017', '4683', 'Happy', '154', '9', 'Inactive'],\n",
       "       ['10-11-2017', '4033', 'Happy', '137', '5', 'Inactive'],\n",
       "       ['11-11-2017', '6314', 'Happy', '193', '6', 'Active'],\n",
       "       ['12-11-2017', '614', 'Happy', '19', '4', 'Active'],\n",
       "       ['13-11-2017', '3149', 'Happy', '101', '5', 'Active'],\n",
       "       ['14-11-2017', '4005', 'Happy', '139', '8', 'Active'],\n",
       "       ['15-11-2017', '4880', 'Happy', '164', '4', 'Active'],\n",
       "       ['16-11-2017', '4136', 'Happy', '137', '5', 'Active'],\n",
       "       ['17-11-2017', '705', 'Happy', '22', '6', 'Active'],\n",
       "       ['18-11-2017', '570', 'Neutral', '17', '5', 'Active'],\n",
       "       ['19-11-2017', '269', 'Happy', '9', '6', 'Active'],\n",
       "       ['20-11-2017', '4275', 'Happy', '145', '5', 'Inactive'],\n",
       "       ['21-11-2017', '5999', 'Happy', '192', '6', 'Inactive'],\n",
       "       ['22-11-2017', '4421', 'Happy', '146', '5', 'Inactive'],\n",
       "       ['23-11-2017', '6930', 'Happy', '234', '6', 'Inactive'],\n",
       "       ['24-11-2017', '5195', 'Happy', '167', '5', 'Inactive'],\n",
       "       ['25-11-2017', '546', 'Happy', '16', '6', 'Inactive'],\n",
       "       ['26-11-2017', '493', 'Happy', '17', '7', 'Active'],\n",
       "       ['27-11-2017', '995', 'Happy', '32', '6', 'Active'],\n",
       "       ['28-11-2017', '1163', 'Neutral', '35', '7', 'Active'],\n",
       "       ['29-11-2017', '6676', 'Sad', '220', '6', 'Active'],\n",
       "       ['30-11-2017', '3608', 'Happy', '116', '5', 'Active'],\n",
       "       ['01-12-2017', '774', 'Happy', '23', '6', 'Active'],\n",
       "       ['02-12-2017', '1421', 'Happy', '44', '7', 'Active'],\n",
       "       ['03-12-2017', '4064', 'Happy', '131', '8', 'Active'],\n",
       "       ['04-12-2017', '2725', 'Happy', '86', '8', 'Active'],\n",
       "       ['05-12-2017', '5934', 'Happy', '194', '7', 'Active'],\n",
       "       ['06-12-2017', '1867', 'Happy', '60', '8', 'Active'],\n",
       "       ['07-12-2017', '3721', 'Sad', '121', '5', 'Active'],\n",
       "       ['08-12-2017', '2374', 'Neutral', '76', '4', 'Inactive'],\n",
       "       ['09-12-2017', '2909', 'Neutral', '93', '3', 'Active'],\n",
       "       ['10-12-2017', '1648', 'Sad', '53', '3', 'Active'],\n",
       "       ['11-12-2017', '799', 'Sad', '25', '4', 'Inactive'],\n",
       "       ['12-12-2017', '7102', 'Neutral', '227', '5', 'Active'],\n",
       "       ['13-12-2017', '3941', 'Neutral', '125', '5', 'Active'],\n",
       "       ['14-12-2017', '7422', 'Happy', '243', '5', 'Active'],\n",
       "       ['15-12-2017', '437', 'Neutral', '14', '3', 'Active'],\n",
       "       ['16-12-2017', '1231', 'Neutral', '39', '4', 'Active'],\n",
       "       ['17-12-2017', '1696', 'Sad', '55', '4', 'Inactive'],\n",
       "       ['18-12-2017', '4921', 'Neutral', '158', '5', 'Active'],\n",
       "       ['19-12-2017', '221', 'Sad', '7', '5', 'Active'],\n",
       "       ['20-12-2017', '6500', 'Neutral', '213', '5', 'Active'],\n",
       "       ['21-12-2017', '3575', 'Neutral', '116', '5', 'Active'],\n",
       "       ['22-12-2017', '4061', 'Sad', '129', '5', 'Inactive'],\n",
       "       ['23-12-2017', '651', 'Sad', '21', '5', 'Inactive'],\n",
       "       ['24-12-2017', '753', 'Sad', '28', '4', 'Inactive'],\n",
       "       ['25-12-2017', '518', 'Sad', '16', '3', 'Inactive'],\n",
       "       ['26-12-2017', '5537', 'Happy', '180', '4', 'Active'],\n",
       "       ['27-12-2017', '4108', 'Neutral', '138', '5', 'Active'],\n",
       "       ['28-12-2017', '5376', 'Happy', '176', '5', 'Active'],\n",
       "       ['29-12-2017', '3066', 'Neutral', '99', '4', 'Active'],\n",
       "       ['30-12-2017', '177', 'Sad', '5', '5', 'Inactive'],\n",
       "       ['31-12-2017', '36', 'Sad', '1', '3', 'Inactive'],\n",
       "       ['01-01-2018', '299', 'Sad', '10', '3', 'Inactive'],\n",
       "       ['02-01-2018', '1447', 'Neutral', '47', '3', 'Inactive'],\n",
       "       ['03-01-2018', '2599', 'Neutral', '84', '2', 'Inactive'],\n",
       "       ['04-01-2018', '702', 'Sad', '23', '3', 'Inactive'],\n",
       "       ['05-01-2018', '133', 'Sad', '4', '2', 'Inactive'],\n",
       "       ['06-01-2018', '153', 'Happy', '0', '8', 'Inactive'],\n",
       "       ['07-01-2018', '500', 'Neutral', '0', '5', 'Active'],\n",
       "       ['08-01-2018', '2127', 'Neutral', '0', '5', 'Inactive'],\n",
       "       ['09-01-2018', '2203', 'Happy', '0', '5', 'Active']], dtype='<U10')"
      ]
     },
     "execution_count": 160,
     "metadata": {},
     "output_type": "execute_result"
    }
   ],
   "source": [
    "data"
   ]
  },
  {
   "cell_type": "code",
   "execution_count": 162,
   "id": "929af995-7942-4e88-80ce-5d6933944e72",
   "metadata": {},
   "outputs": [],
   "source": [
    "# Columns\n",
    "# Date, Step_Count, Mood, Calories Burnt, Hours Of Sleep, Feeling Active"
   ]
  },
  {
   "cell_type": "code",
   "execution_count": 163,
   "id": "4ebfa118-4a2a-4ac4-8e26-c1a56223a7d1",
   "metadata": {},
   "outputs": [],
   "source": [
    "#EDA -  Explore Data Analysis"
   ]
  },
  {
   "cell_type": "code",
   "execution_count": 164,
   "id": "c042e958-4778-45d3-a9ac-9f0d23e1465d",
   "metadata": {},
   "outputs": [
    {
     "data": {
      "text/plain": [
       "(96, 6)"
      ]
     },
     "execution_count": 164,
     "metadata": {},
     "output_type": "execute_result"
    }
   ],
   "source": [
    "data.shape"
   ]
  },
  {
   "cell_type": "code",
   "execution_count": 165,
   "id": "eda449e6-c3fd-41d1-bc8b-6c9273458ca7",
   "metadata": {},
   "outputs": [
    {
     "data": {
      "text/plain": [
       "array(['06-10-2017', '5464', 'Neutral', '181', '5', 'Inactive'],\n",
       "      dtype='<U10')"
      ]
     },
     "execution_count": 165,
     "metadata": {},
     "output_type": "execute_result"
    }
   ],
   "source": [
    "data[0]"
   ]
  },
  {
   "cell_type": "code",
   "execution_count": 171,
   "id": "f933bad2-f3e8-4327-82c3-af3be0cf703c",
   "metadata": {},
   "outputs": [
    {
     "data": {
      "text/plain": [
       "array([ 10,  20,  30,  40,  50,  60,  70,  80,  90, 100])"
      ]
     },
     "execution_count": 171,
     "metadata": {},
     "output_type": "execute_result"
    }
   ],
   "source": [
    "# Transpose - Change rows to column and column to rows\n",
    "arr = np.arange(10,101,10)\n",
    "arr.reshape(2,-1)\n",
    "arr.T"
   ]
  },
  {
   "cell_type": "code",
   "execution_count": 173,
   "id": "5b41490c-46d4-42e5-8931-62ae7a65a411",
   "metadata": {},
   "outputs": [],
   "source": [
    "dataT = data.T"
   ]
  },
  {
   "cell_type": "code",
   "execution_count": 174,
   "id": "3f6ddb49-9138-4f7b-8b1e-368e9e69a702",
   "metadata": {},
   "outputs": [],
   "source": [
    "# data[0] - Date\n",
    "# data[1] - step count and so on"
   ]
  },
  {
   "cell_type": "code",
   "execution_count": 175,
   "id": "b99fea95-70ac-4a3f-a294-63eaac1b8aab",
   "metadata": {
    "editable": true,
    "slideshow": {
     "slide_type": ""
    },
    "tags": []
   },
   "outputs": [],
   "source": [
    "Date, Step_Count, Mood, Calories_Burnt, Hours_Of_Sleep, Feeling_Active = dataT"
   ]
  },
  {
   "cell_type": "code",
   "execution_count": 176,
   "id": "1ae3a285-3c2d-443e-8bea-97a439dd0096",
   "metadata": {},
   "outputs": [
    {
     "data": {
      "text/plain": [
       "array(['06-10-2017', '07-10-2017', '08-10-2017', '09-10-2017',\n",
       "       '10-10-2017', '11-10-2017', '12-10-2017', '13-10-2017',\n",
       "       '14-10-2017', '15-10-2017', '16-10-2017', '17-10-2017',\n",
       "       '18-10-2017', '19-10-2017', '20-10-2017', '21-10-2017',\n",
       "       '22-10-2017', '23-10-2017', '24-10-2017', '25-10-2017',\n",
       "       '26-10-2017', '27-10-2017', '28-10-2017', '29-10-2017',\n",
       "       '30-10-2017', '31-10-2017', '01-11-2017', '02-11-2017',\n",
       "       '03-11-2017', '04-11-2017', '05-11-2017', '06-11-2017',\n",
       "       '07-11-2017', '08-11-2017', '09-11-2017', '10-11-2017',\n",
       "       '11-11-2017', '12-11-2017', '13-11-2017', '14-11-2017',\n",
       "       '15-11-2017', '16-11-2017', '17-11-2017', '18-11-2017',\n",
       "       '19-11-2017', '20-11-2017', '21-11-2017', '22-11-2017',\n",
       "       '23-11-2017', '24-11-2017', '25-11-2017', '26-11-2017',\n",
       "       '27-11-2017', '28-11-2017', '29-11-2017', '30-11-2017',\n",
       "       '01-12-2017', '02-12-2017', '03-12-2017', '04-12-2017',\n",
       "       '05-12-2017', '06-12-2017', '07-12-2017', '08-12-2017',\n",
       "       '09-12-2017', '10-12-2017', '11-12-2017', '12-12-2017',\n",
       "       '13-12-2017', '14-12-2017', '15-12-2017', '16-12-2017',\n",
       "       '17-12-2017', '18-12-2017', '19-12-2017', '20-12-2017',\n",
       "       '21-12-2017', '22-12-2017', '23-12-2017', '24-12-2017',\n",
       "       '25-12-2017', '26-12-2017', '27-12-2017', '28-12-2017',\n",
       "       '29-12-2017', '30-12-2017', '31-12-2017', '01-01-2018',\n",
       "       '02-01-2018', '03-01-2018', '04-01-2018', '05-01-2018',\n",
       "       '06-01-2018', '07-01-2018', '08-01-2018', '09-01-2018'],\n",
       "      dtype='<U10')"
      ]
     },
     "execution_count": 176,
     "metadata": {},
     "output_type": "execute_result"
    }
   ],
   "source": [
    "Date"
   ]
  },
  {
   "cell_type": "code",
   "execution_count": 177,
   "id": "58c68658-3621-4f79-ac55-ac6d87212273",
   "metadata": {},
   "outputs": [],
   "source": [
    "Step_Count = Step_Count.astype(int)"
   ]
  },
  {
   "cell_type": "code",
   "execution_count": 178,
   "id": "a16119cb-27a0-403b-a8a5-6a8ebdb277d1",
   "metadata": {},
   "outputs": [
    {
     "data": {
      "text/plain": [
       "array([5464, 6041,   25, 5461, 6915, 4545, 4340, 1230,   61, 1258, 3148,\n",
       "       4687, 4732, 3519, 1580, 2822,  181, 3158, 4383, 3881, 4037,  202,\n",
       "        292,  330, 2209, 4550, 4435, 4779, 1831, 2255,  539, 5464, 6041,\n",
       "       4068, 4683, 4033, 6314,  614, 3149, 4005, 4880, 4136,  705,  570,\n",
       "        269, 4275, 5999, 4421, 6930, 5195,  546,  493,  995, 1163, 6676,\n",
       "       3608,  774, 1421, 4064, 2725, 5934, 1867, 3721, 2374, 2909, 1648,\n",
       "        799, 7102, 3941, 7422,  437, 1231, 1696, 4921,  221, 6500, 3575,\n",
       "       4061,  651,  753,  518, 5537, 4108, 5376, 3066,  177,   36,  299,\n",
       "       1447, 2599,  702,  133,  153,  500, 2127, 2203])"
      ]
     },
     "execution_count": 178,
     "metadata": {},
     "output_type": "execute_result"
    }
   ],
   "source": [
    "Step_Count"
   ]
  },
  {
   "cell_type": "code",
   "execution_count": 180,
   "id": "19c55a4a-5815-4448-b435-205d942e91b1",
   "metadata": {
    "editable": true,
    "slideshow": {
     "slide_type": ""
    },
    "tags": []
   },
   "outputs": [],
   "source": [
    "total_moods = np.unique(Mood)"
   ]
  },
  {
   "cell_type": "code",
   "execution_count": 187,
   "id": "1ab21d0f-a6c7-4533-81dc-755d56d99b56",
   "metadata": {},
   "outputs": [
    {
     "data": {
      "text/plain": [
       "array(['Happy', 'Neutral', 'Sad'], dtype='<U10')"
      ]
     },
     "execution_count": 187,
     "metadata": {},
     "output_type": "execute_result"
    }
   ],
   "source": [
    "total_moods"
   ]
  },
  {
   "cell_type": "code",
   "execution_count": 181,
   "id": "3e30a3e4-5936-404d-90d6-e2599af2cf8d",
   "metadata": {},
   "outputs": [
    {
     "data": {
      "text/plain": [
       "array([False, False, False, False, False, False, False, False, False,\n",
       "       False, False, False,  True, False, False, False, False, False,\n",
       "       False, False, False, False, False,  True, False,  True,  True,\n",
       "        True,  True,  True,  True,  True, False,  True,  True,  True,\n",
       "        True,  True,  True,  True,  True,  True,  True, False,  True,\n",
       "        True,  True,  True,  True,  True,  True,  True,  True, False,\n",
       "       False,  True,  True,  True,  True,  True,  True,  True, False,\n",
       "       False, False, False, False, False, False,  True, False, False,\n",
       "       False, False, False, False, False, False, False, False, False,\n",
       "        True, False,  True, False, False, False, False, False, False,\n",
       "       False, False,  True, False, False,  True])"
      ]
     },
     "execution_count": 181,
     "metadata": {},
     "output_type": "execute_result"
    }
   ],
   "source": [
    "Mood == \"Happy\""
   ]
  },
  {
   "cell_type": "code",
   "execution_count": 182,
   "id": "52d6298d-fa61-4d9c-a386-af8d60568495",
   "metadata": {},
   "outputs": [
    {
     "data": {
      "text/plain": [
       "array([4732,  330, 4550, 4435, 4779, 1831, 2255,  539, 5464, 4068, 4683,\n",
       "       4033, 6314,  614, 3149, 4005, 4880, 4136,  705,  269, 4275, 5999,\n",
       "       4421, 6930, 5195,  546,  493,  995, 3608,  774, 1421, 4064, 2725,\n",
       "       5934, 1867, 7422, 5537, 5376,  153, 2203])"
      ]
     },
     "execution_count": 182,
     "metadata": {},
     "output_type": "execute_result"
    }
   ],
   "source": [
    "Step_Count[Mood==\"Happy\"]"
   ]
  },
  {
   "cell_type": "code",
   "execution_count": 183,
   "id": "7fb99aad-2eb2-46f2-bf24-0f0418830bdb",
   "metadata": {},
   "outputs": [
    {
     "data": {
      "text/plain": [
       "array([6041,   25, 5461, 4545, 4340, 1230,   61, 1258, 3148, 4687, 3519,\n",
       "       1580, 2822,  181, 6676, 3721, 1648,  799, 1696,  221, 4061,  651,\n",
       "        753,  518,  177,   36,  299,  702,  133])"
      ]
     },
     "execution_count": 183,
     "metadata": {},
     "output_type": "execute_result"
    }
   ],
   "source": [
    "Step_Count[Mood==\"Sad\"]"
   ]
  },
  {
   "cell_type": "code",
   "execution_count": 190,
   "id": "c464fb5c-784a-482a-9aea-7bf7f804cca4",
   "metadata": {},
   "outputs": [
    {
     "data": {
      "text/plain": [
       "40"
      ]
     },
     "execution_count": 190,
     "metadata": {},
     "output_type": "execute_result"
    }
   ],
   "source": [
    "Calories_Burnt[Mood==\"Happy\"].shape[0]"
   ]
  },
  {
   "cell_type": "code",
   "execution_count": 189,
   "id": "12c4aae5-5f19-4629-8bee-00329fe10a7a",
   "metadata": {},
   "outputs": [
    {
     "data": {
      "text/plain": [
       "29"
      ]
     },
     "execution_count": 189,
     "metadata": {},
     "output_type": "execute_result"
    }
   ],
   "source": [
    "Calories_Burnt[Mood==\"Sad\"].shape[0]"
   ]
  },
  {
   "cell_type": "markdown",
   "id": "9540a853-c6e5-43c4-938a-aff1bdcb054a",
   "metadata": {},
   "source": [
    "# Task\n",
    "\n",
    "When person sleep more - When he is happy or sad?"
   ]
  },
  {
   "cell_type": "markdown",
   "id": "dfdd5c1b-6011-46bf-8f36-cf474c168ba0",
   "metadata": {
    "editable": true,
    "slideshow": {
     "slide_type": ""
    },
    "tags": []
   },
   "source": [
    "Solution will be in start of [Numpy3 File](Numpy/Tutorial/Numpy3.ipynb)"
   ]
  },
  {
   "cell_type": "code",
   "execution_count": 191,
   "id": "714e5301-47fa-4ba8-b997-2cbc6d800bf1",
   "metadata": {},
   "outputs": [
    {
     "name": "stdout",
     "output_type": "stream",
     "text": [
      "1.0\n"
     ]
    }
   ],
   "source": [
    "import numpy as np\n",
    "x = np.array([[200,200,200],[300,300,300],[400,400,400]])\n",
    "v = np.array([200,300,400])\n",
    "print((x / v[:,None])[1][1]) "
   ]
  },
  {
   "cell_type": "code",
   "execution_count": 192,
   "id": "210afa67-e45d-4f0b-9e18-7de835dac955",
   "metadata": {},
   "outputs": [
    {
     "data": {
      "text/plain": [
       "array([[200],\n",
       "       [300],\n",
       "       [400]])"
      ]
     },
     "execution_count": 192,
     "metadata": {},
     "output_type": "execute_result"
    }
   ],
   "source": [
    "v[:,None]"
   ]
  },
  {
   "cell_type": "code",
   "execution_count": 193,
   "id": "3d68ed08-e5b2-429c-a032-8a5a8ad593ab",
   "metadata": {},
   "outputs": [
    {
     "data": {
      "text/plain": [
       "array([[1., 1., 1.],\n",
       "       [1., 1., 1.],\n",
       "       [1., 1., 1.]])"
      ]
     },
     "execution_count": 193,
     "metadata": {},
     "output_type": "execute_result"
    }
   ],
   "source": [
    "(x / v[:,None])\n"
   ]
  },
  {
   "cell_type": "code",
   "execution_count": 194,
   "id": "5e58318a-f449-459d-b770-5844fa18b92b",
   "metadata": {},
   "outputs": [
    {
     "name": "stdout",
     "output_type": "stream",
     "text": [
      "21\n"
     ]
    }
   ],
   "source": [
    "import numpy as np\n",
    "p = np.array([[0], [10], [20]])\n",
    "q = np.array([10, 11, 12]) \n",
    "print((p + q)[1][1]) "
   ]
  },
  {
   "cell_type": "code",
   "execution_count": 195,
   "id": "1e9982bd-e5cc-45a6-b24a-35cc779013c4",
   "metadata": {},
   "outputs": [
    {
     "data": {
      "text/plain": [
       "array([[10, 11, 12],\n",
       "       [20, 21, 22],\n",
       "       [30, 31, 32]])"
      ]
     },
     "execution_count": 195,
     "metadata": {},
     "output_type": "execute_result"
    }
   ],
   "source": [
    "(p + q)"
   ]
  },
  {
   "cell_type": "code",
   "execution_count": 196,
   "id": "69af37ea-4db0-4196-a751-f2329ebc2cfe",
   "metadata": {
    "editable": true,
    "slideshow": {
     "slide_type": ""
    },
    "tags": []
   },
   "outputs": [
    {
     "data": {
      "text/plain": [
       "array([10, 11, 12])"
      ]
     },
     "execution_count": 196,
     "metadata": {},
     "output_type": "execute_result"
    }
   ],
   "source": [
    "q"
   ]
  },
  {
   "cell_type": "code",
   "execution_count": 197,
   "id": "2ed32416-b405-49cc-b85e-64205e8e9636",
   "metadata": {},
   "outputs": [
    {
     "name": "stdout",
     "output_type": "stream",
     "text": [
      "[16 81 33  5  6  1]\n"
     ]
    }
   ],
   "source": [
    "import numpy as np\n",
    "a = np.array([[16, 5], [81, 6], [33, 1]])\n",
    "x=np.transpose(a).reshape(2,3)\n",
    "print(x.flatten())"
   ]
  },
  {
   "cell_type": "code",
   "execution_count": 198,
   "id": "16aa6653-3b10-4005-bd63-79d32d16d64b",
   "metadata": {},
   "outputs": [
    {
     "data": {
      "text/plain": [
       "array([[16, 81, 33],\n",
       "       [ 5,  6,  1]])"
      ]
     },
     "execution_count": 198,
     "metadata": {},
     "output_type": "execute_result"
    }
   ],
   "source": [
    "np.transpose(a)"
   ]
  },
  {
   "cell_type": "code",
   "execution_count": 199,
   "id": "7e6cdf4a-48f3-41a4-bca8-c18020cc0b1b",
   "metadata": {},
   "outputs": [
    {
     "data": {
      "text/plain": [
       "array([[16,  5],\n",
       "       [81,  6],\n",
       "       [33,  1]])"
      ]
     },
     "execution_count": 199,
     "metadata": {},
     "output_type": "execute_result"
    }
   ],
   "source": [
    "a"
   ]
  },
  {
   "cell_type": "code",
   "execution_count": 200,
   "id": "79fbfe8e-8613-4de3-aa9c-7c3fde13ecf9",
   "metadata": {},
   "outputs": [
    {
     "data": {
      "text/plain": [
       "array([[16, 81, 33],\n",
       "       [ 5,  6,  1]])"
      ]
     },
     "execution_count": 200,
     "metadata": {},
     "output_type": "execute_result"
    }
   ],
   "source": [
    "np.transpose(a).reshape(2,3)"
   ]
  },
  {
   "cell_type": "code",
   "execution_count": 201,
   "id": "3ba3a7c3-d7da-47b6-9f30-0cb0884989ab",
   "metadata": {},
   "outputs": [
    {
     "data": {
      "text/plain": [
       "array([16, 81, 33,  5,  6,  1])"
      ]
     },
     "execution_count": 201,
     "metadata": {},
     "output_type": "execute_result"
    }
   ],
   "source": [
    "np.transpose(a).reshape(2,3).flatten()"
   ]
  },
  {
   "cell_type": "code",
   "execution_count": null,
   "id": "1c6aaacf-e369-4cb0-b5e0-8137c00741a2",
   "metadata": {},
   "outputs": [],
   "source": []
  }
 ],
 "metadata": {
  "kernelspec": {
   "display_name": "Python 3 (ipykernel)",
   "language": "python",
   "name": "python3"
  },
  "language_info": {
   "codemirror_mode": {
    "name": "ipython",
    "version": 3
   },
   "file_extension": ".py",
   "mimetype": "text/x-python",
   "name": "python",
   "nbconvert_exporter": "python",
   "pygments_lexer": "ipython3",
   "version": "3.11.5"
  }
 },
 "nbformat": 4,
 "nbformat_minor": 5
}
