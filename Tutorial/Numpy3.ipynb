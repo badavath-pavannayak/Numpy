{
 "cells": [
  {
   "cell_type": "markdown",
   "id": "a9f9bf95-7e1f-4e7a-b3d1-cb7f84916430",
   "metadata": {
    "editable": true,
    "slideshow": {
     "slide_type": ""
    },
    "tags": []
   },
   "source": [
    "# Task\n",
    "\n",
    "When person sleep more - When he is happy or sad?"
   ]
  },
  {
   "cell_type": "code",
   "execution_count": 1,
   "id": "1ab55d12-a9bd-4770-80f2-272635062307",
   "metadata": {
    "editable": true,
    "slideshow": {
     "slide_type": ""
    },
    "tags": []
   },
   "outputs": [],
   "source": [
    "import numpy as np"
   ]
  },
  {
   "cell_type": "code",
   "execution_count": 2,
   "id": "7369d450-de59-44ff-822d-99c410a972e5",
   "metadata": {
    "editable": true,
    "slideshow": {
     "slide_type": ""
    },
    "tags": []
   },
   "outputs": [],
   "source": [
    "data = np.loadtxt(\"Files/fit.txt\",dtype=str)"
   ]
  },
  {
   "cell_type": "code",
   "execution_count": 3,
   "id": "313d56bc-c6bf-4191-a040-17bd0183fa89",
   "metadata": {
    "editable": true,
    "slideshow": {
     "slide_type": ""
    },
    "tags": []
   },
   "outputs": [],
   "source": [
    "Date, Step_Count, Mood, Calories_Burnt, Hours_Of_Sleep, Feeling_Active = data.T"
   ]
  },
  {
   "cell_type": "code",
   "execution_count": 4,
   "id": "e87ead4e-113b-4867-8052-d8d835924bc7",
   "metadata": {
    "editable": true,
    "slideshow": {
     "slide_type": ""
    },
    "tags": []
   },
   "outputs": [],
   "source": [
    "total_moods = np.unique(Mood)\n"
   ]
  },
  {
   "cell_type": "code",
   "execution_count": 5,
   "id": "9241f55a-c491-4f81-81e2-fe270baab8ea",
   "metadata": {},
   "outputs": [
    {
     "data": {
      "text/plain": [
       "array(['Happy', 'Neutral', 'Sad'], dtype='<U10')"
      ]
     },
     "execution_count": 5,
     "metadata": {},
     "output_type": "execute_result"
    }
   ],
   "source": [
    "total_moods"
   ]
  },
  {
   "cell_type": "code",
   "execution_count": 7,
   "id": "52e3a508-8952-4479-a0b9-e00ac99d54cb",
   "metadata": {
    "editable": true,
    "slideshow": {
     "slide_type": ""
    },
    "tags": []
   },
   "outputs": [],
   "source": [
    "Hours_Of_Sleep = Hours_Of_Sleep.astype(int)"
   ]
  },
  {
   "cell_type": "code",
   "execution_count": 11,
   "id": "d6059bc1-f0a4-4fda-aca6-8fead768d299",
   "metadata": {},
   "outputs": [],
   "source": [
    "sleepingwhensad = np.mean(Hours_Of_Sleep[Mood==\"Sad\"])"
   ]
  },
  {
   "cell_type": "code",
   "execution_count": 12,
   "id": "c088e37a-b8a6-4375-a9d3-bf1be915703c",
   "metadata": {},
   "outputs": [],
   "source": [
    "sleepingwhenhappy = np.mean(Hours_Of_Sleep[Mood==\"Happy\"])"
   ]
  },
  {
   "cell_type": "code",
   "execution_count": 15,
   "id": "551d6206-31f4-4695-b975-fd2a29fa26ac",
   "metadata": {},
   "outputs": [
    {
     "name": "stdout",
     "output_type": "stream",
     "text": [
      "Sleeping More when they are happy\n"
     ]
    }
   ],
   "source": [
    "if sleepingwhensad>sleepingwhenhappy:\n",
    "    print(\"Sleeping More when they are sad\")\n",
    "else:\n",
    "    print(\"Sleeping More when they are happy\")"
   ]
  },
  {
   "cell_type": "code",
   "execution_count": null,
   "id": "37c8498f-dad0-4103-87cc-cc19ff34a7c9",
   "metadata": {
    "editable": true,
    "slideshow": {
     "slide_type": ""
    },
    "tags": []
   },
   "outputs": [],
   "source": []
  }
 ],
 "metadata": {
  "kernelspec": {
   "display_name": "Python 3 (ipykernel)",
   "language": "python",
   "name": "python3"
  },
  "language_info": {
   "codemirror_mode": {
    "name": "ipython",
    "version": 3
   },
   "file_extension": ".py",
   "mimetype": "text/x-python",
   "name": "python",
   "nbconvert_exporter": "python",
   "pygments_lexer": "ipython3",
   "version": "3.11.5"
  }
 },
 "nbformat": 4,
 "nbformat_minor": 5
}
