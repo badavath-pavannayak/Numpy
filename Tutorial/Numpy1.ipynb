{
 "cells": [
  {
   "cell_type": "code",
   "execution_count": 125,
   "id": "010f8983",
   "metadata": {},
   "outputs": [],
   "source": [
    "import math"
   ]
  },
  {
   "cell_type": "code",
   "execution_count": 3,
   "id": "271fed01-4aea-4cd6-b379-c496f063f350",
   "metadata": {},
   "outputs": [
    {
     "data": {
      "text/plain": [
       "-0.5440211108893698"
      ]
     },
     "execution_count": 3,
     "metadata": {},
     "output_type": "execute_result"
    }
   ],
   "source": [
    "math.sin(10)"
   ]
  },
  {
   "cell_type": "code",
   "execution_count": 4,
   "id": "38935b90-7164-4e67-8356-8f6bdcad61d9",
   "metadata": {},
   "outputs": [
    {
     "name": "stdout",
     "output_type": "stream",
     "text": [
      "Defaulting to user installation because normal site-packages is not writeable\n",
      "Requirement already satisfied: numpy in c:\\users\\akhil\\appdata\\roaming\\python\\python311\\site-packages (1.26.2)\n"
     ]
    },
    {
     "name": "stderr",
     "output_type": "stream",
     "text": [
      "\n",
      "[notice] A new release of pip is available: 23.3.1 -> 25.0\n",
      "[notice] To update, run: python.exe -m pip install --upgrade pip\n"
     ]
    }
   ],
   "source": [
    "!pip install numpy"
   ]
  },
  {
   "cell_type": "code",
   "execution_count": 5,
   "id": "84562a80-caa3-4c18-8db8-74f88ecdb269",
   "metadata": {},
   "outputs": [],
   "source": [
    "import numpy as np"
   ]
  },
  {
   "cell_type": "code",
   "execution_count": 6,
   "id": "f83d7988-45a9-4429-ba35-e872a5d04c6b",
   "metadata": {},
   "outputs": [],
   "source": [
    "a = [1,2,3,4,5]"
   ]
  },
  {
   "cell_type": "code",
   "execution_count": 7,
   "id": "ef25ff94-2e83-4a8c-8f68-4bb2a4961cd6",
   "metadata": {},
   "outputs": [
    {
     "data": {
      "text/plain": [
       "[1, 2, 3, 4, 5, 1, 2, 3, 4, 5]"
      ]
     },
     "execution_count": 7,
     "metadata": {},
     "output_type": "execute_result"
    }
   ],
   "source": [
    "a*2 # will duplicate the list"
   ]
  },
  {
   "cell_type": "code",
   "execution_count": 11,
   "id": "adbae4af-c62e-4cda-9f1a-cdc43a3e1379",
   "metadata": {},
   "outputs": [
    {
     "name": "stdout",
     "output_type": "stream",
     "text": [
      "CPU times: total: 0 ns\n",
      "Wall time: 0 ns\n"
     ]
    },
    {
     "data": {
      "text/plain": [
       "[2, 4, 6, 8, 10]"
      ]
     },
     "execution_count": 11,
     "metadata": {},
     "output_type": "execute_result"
    }
   ],
   "source": [
    "%time [a*2 for a in a]"
   ]
  },
  {
   "cell_type": "code",
   "execution_count": 12,
   "id": "30c46c22-d6b7-4bfb-b3ea-9e55c528fc72",
   "metadata": {
    "editable": true,
    "slideshow": {
     "slide_type": ""
    },
    "tags": []
   },
   "outputs": [],
   "source": [
    "arr = np.array(range(10))"
   ]
  },
  {
   "cell_type": "code",
   "execution_count": 13,
   "id": "19079120-00ad-4716-8ace-940e801390c6",
   "metadata": {},
   "outputs": [
    {
     "data": {
      "text/plain": [
       "array([0, 1, 2, 3, 4, 5, 6, 7, 8, 9])"
      ]
     },
     "execution_count": 13,
     "metadata": {},
     "output_type": "execute_result"
    }
   ],
   "source": [
    "arr"
   ]
  },
  {
   "cell_type": "code",
   "execution_count": 15,
   "id": "38030d7a-a034-4551-9328-e0c9bf7e425b",
   "metadata": {},
   "outputs": [
    {
     "name": "stdout",
     "output_type": "stream",
     "text": [
      "CPU times: total: 0 ns\n",
      "Wall time: 0 ns\n"
     ]
    },
    {
     "data": {
      "text/plain": [
       "array([ 0,  1,  4,  9, 16, 25, 36, 49, 64, 81])"
      ]
     },
     "execution_count": 15,
     "metadata": {},
     "output_type": "execute_result"
    }
   ],
   "source": [
    "%time arr**2"
   ]
  },
  {
   "cell_type": "code",
   "execution_count": 16,
   "id": "73ab0dbe-a614-4a09-8871-2fe678a2e13a",
   "metadata": {},
   "outputs": [],
   "source": [
    "# Time to process"
   ]
  },
  {
   "cell_type": "code",
   "execution_count": 22,
   "id": "4b5e9c33-58c0-4533-9e07-3efbb672b0d7",
   "metadata": {},
   "outputs": [
    {
     "name": "stdout",
     "output_type": "stream",
     "text": [
      "10.1 ms ± 1.46 ms per loop (mean ± std. dev. of 7 runs, 100 loops each)\n"
     ]
    }
   ],
   "source": [
    "%timeit arr = [a for a in range(100000)]"
   ]
  },
  {
   "cell_type": "code",
   "execution_count": 23,
   "id": "cb024519-1f53-4058-9a46-e6087c7528f0",
   "metadata": {},
   "outputs": [
    {
     "name": "stdout",
     "output_type": "stream",
     "text": [
      "19.2 ms ± 1.6 ms per loop (mean ± std. dev. of 7 runs, 100 loops each)\n"
     ]
    }
   ],
   "source": [
    "%timeit [a**2 for a in arr]"
   ]
  },
  {
   "cell_type": "code",
   "execution_count": 25,
   "id": "ac850fda-e606-43fe-9990-b2b3c7bec2db",
   "metadata": {},
   "outputs": [
    {
     "name": "stdout",
     "output_type": "stream",
     "text": [
      "23.6 ms ± 1.38 ms per loop (mean ± std. dev. of 7 runs, 100 loops each)\n"
     ]
    }
   ],
   "source": [
    "%timeit arr = np.array(range(100000))"
   ]
  },
  {
   "cell_type": "code",
   "execution_count": 26,
   "id": "fcaf8c20-9151-48bd-b1ba-6b4a2d1e5aa8",
   "metadata": {},
   "outputs": [
    {
     "name": "stdout",
     "output_type": "stream",
     "text": [
      "231 µs ± 11 µs per loop (mean ± std. dev. of 7 runs, 10,000 loops each)\n"
     ]
    }
   ],
   "source": [
    "%timeit arr**2"
   ]
  },
  {
   "cell_type": "code",
   "execution_count": 27,
   "id": "bce48d62-ac4d-49be-bafb-e6d8c79745e3",
   "metadata": {},
   "outputs": [],
   "source": [
    "# Above is the time comparision for list and numpy array"
   ]
  },
  {
   "cell_type": "markdown",
   "id": "45e289b2-f8e5-44e0-b5c4-aa90267137b2",
   "metadata": {},
   "source": [
    "### Dimension and  Shape"
   ]
  },
  {
   "cell_type": "markdown",
   "id": "9ae7b669-b9ce-45a2-b1e9-f006023e4a4e",
   "metadata": {},
   "source": [
    "- Dimension means how many index you require to get an element\n",
    "  - 1 D Array\n",
    "  - 2 D Array\n",
    "\n",
    "`array.ndim`\n",
    "\n",
    "### Dimension 1 \n",
    "[1,2,3,4,5,6]\n",
    "### Dimension 2\n",
    "[[1,2],[3,4],[5,6]]\n",
    "### Dimension 3\n",
    "[[[1,2],[3,4]],[[5,6],[7,8]]]\n",
    "\n",
    "\n",
    "\n",
    "matrix provided in numpy should be in proper shape\n"
   ]
  },
  {
   "cell_type": "code",
   "execution_count": 46,
   "id": "11166a8d-1eac-4814-ab13-d17cb4a80c4d",
   "metadata": {},
   "outputs": [],
   "source": [
    "a1 = [1,2,3,4,5,6]"
   ]
  },
  {
   "cell_type": "code",
   "execution_count": 30,
   "id": "82914cb7-57af-4452-b5b0-974c86c41cff",
   "metadata": {},
   "outputs": [],
   "source": [
    "arr = np.array(a1)"
   ]
  },
  {
   "cell_type": "code",
   "execution_count": 31,
   "id": "46de3aaa-2249-433f-b8fc-e268f9a47330",
   "metadata": {},
   "outputs": [
    {
     "data": {
      "text/plain": [
       "array([1, 2, 3, 4, 5, 6])"
      ]
     },
     "execution_count": 31,
     "metadata": {},
     "output_type": "execute_result"
    }
   ],
   "source": [
    "arr"
   ]
  },
  {
   "cell_type": "code",
   "execution_count": 32,
   "id": "f2ca80c7-e149-46cf-9b66-0e105030ef34",
   "metadata": {},
   "outputs": [
    {
     "data": {
      "text/plain": [
       "1"
      ]
     },
     "execution_count": 32,
     "metadata": {},
     "output_type": "execute_result"
    }
   ],
   "source": [
    "arr.ndim"
   ]
  },
  {
   "cell_type": "code",
   "execution_count": 42,
   "id": "cdccc42d-cd08-4b29-b9ae-daf043135733",
   "metadata": {},
   "outputs": [],
   "source": [
    "a2 = [[1,2],[3,4],[5,6]]"
   ]
  },
  {
   "cell_type": "code",
   "execution_count": 43,
   "id": "9cc8dd1e-8cc7-4714-809a-047fd8bbbacd",
   "metadata": {},
   "outputs": [],
   "source": [
    "arr = np.array(a2)"
   ]
  },
  {
   "cell_type": "code",
   "execution_count": 44,
   "id": "005ddaf5-bec5-4773-8003-67a61618f1d4",
   "metadata": {},
   "outputs": [
    {
     "data": {
      "text/plain": [
       "2"
      ]
     },
     "execution_count": 44,
     "metadata": {},
     "output_type": "execute_result"
    }
   ],
   "source": [
    "arr.ndim"
   ]
  },
  {
   "cell_type": "code",
   "execution_count": 45,
   "id": "3ab04ca9-097c-4971-9848-a186078daf76",
   "metadata": {},
   "outputs": [
    {
     "data": {
      "text/plain": [
       "array([[1, 2],\n",
       "       [3, 4],\n",
       "       [5, 6]])"
      ]
     },
     "execution_count": 45,
     "metadata": {},
     "output_type": "execute_result"
    }
   ],
   "source": [
    "arr"
   ]
  },
  {
   "cell_type": "code",
   "execution_count": 36,
   "id": "cc1ba7e6-b86d-48ad-862b-6e86f653bfb6",
   "metadata": {},
   "outputs": [],
   "source": [
    "a3 = [[[1,2],[3,4]],[[5,6],[7,8]]]"
   ]
  },
  {
   "cell_type": "code",
   "execution_count": 37,
   "id": "cd465a79-51d1-4ed3-b1cf-cdd1effee0aa",
   "metadata": {},
   "outputs": [],
   "source": [
    "arr = np.array(a3)"
   ]
  },
  {
   "cell_type": "code",
   "execution_count": 38,
   "id": "823187b7-71a3-4ff9-8163-df765b5d6043",
   "metadata": {},
   "outputs": [
    {
     "data": {
      "text/plain": [
       "3"
      ]
     },
     "execution_count": 38,
     "metadata": {},
     "output_type": "execute_result"
    }
   ],
   "source": [
    "arr.ndim"
   ]
  },
  {
   "cell_type": "code",
   "execution_count": 39,
   "id": "c157116d-03e7-4c41-8e62-4377189cef55",
   "metadata": {},
   "outputs": [
    {
     "data": {
      "text/plain": [
       "array([[[1, 2],\n",
       "        [3, 4]],\n",
       "\n",
       "       [[5, 6],\n",
       "        [7, 8]]])"
      ]
     },
     "execution_count": 39,
     "metadata": {},
     "output_type": "execute_result"
    }
   ],
   "source": [
    "arr"
   ]
  },
  {
   "cell_type": "markdown",
   "id": "9bd8e6d7-f4ff-4445-a2cb-bca9689285a2",
   "metadata": {},
   "source": [
    "### Shape\n",
    "\n",
    "Shape is the size of an array\n",
    "\n",
    "`array.shape`\n",
    "\n",
    "Return RxC\n",
    "\n"
   ]
  },
  {
   "cell_type": "code",
   "execution_count": 48,
   "id": "28d02feb-c852-40fe-a5ba-fc7d68edabd3",
   "metadata": {},
   "outputs": [
    {
     "data": {
      "text/plain": [
       "(3, 2)"
      ]
     },
     "execution_count": 48,
     "metadata": {},
     "output_type": "execute_result"
    }
   ],
   "source": [
    "arr.shape"
   ]
  },
  {
   "cell_type": "code",
   "execution_count": 50,
   "id": "8606d7b4-be67-4a21-8068-db421216c0c6",
   "metadata": {},
   "outputs": [
    {
     "data": {
      "text/plain": [
       "()"
      ]
     },
     "execution_count": 50,
     "metadata": {},
     "output_type": "execute_result"
    }
   ],
   "source": [
    "arr[0].shape"
   ]
  },
  {
   "cell_type": "code",
   "execution_count": 51,
   "id": "6b32431e-40a0-4834-9e20-3fc981e37e79",
   "metadata": {},
   "outputs": [
    {
     "ename": "AttributeError",
     "evalue": "'range' object has no attribute 'shape'",
     "output_type": "error",
     "traceback": [
      "\u001b[1;31m---------------------------------------------------------------------------\u001b[0m",
      "\u001b[1;31mAttributeError\u001b[0m                            Traceback (most recent call last)",
      "Cell \u001b[1;32mIn[51], line 1\u001b[0m\n\u001b[1;32m----> 1\u001b[0m \u001b[38;5;28;43mrange\u001b[39;49m\u001b[43m(\u001b[49m\u001b[38;5;241;43m1000000\u001b[39;49m\u001b[43m)\u001b[49m\u001b[38;5;241;43m.\u001b[39;49m\u001b[43mshape\u001b[49m\n",
      "\u001b[1;31mAttributeError\u001b[0m: 'range' object has no attribute 'shape'"
     ]
    }
   ],
   "source": [
    "range(1000000).shape"
   ]
  },
  {
   "cell_type": "code",
   "execution_count": 52,
   "id": "b41ace85-2df8-452d-a975-780927bbf9be",
   "metadata": {},
   "outputs": [
    {
     "data": {
      "text/plain": [
       "(1000000,)"
      ]
     },
     "execution_count": 52,
     "metadata": {},
     "output_type": "execute_result"
    }
   ],
   "source": [
    "np.array(range(1000000)).shape"
   ]
  },
  {
   "cell_type": "markdown",
   "id": "19b057e5-af27-47f8-a107-fc32cb411134",
   "metadata": {},
   "source": [
    "# Quize"
   ]
  },
  {
   "cell_type": "code",
   "execution_count": 53,
   "id": "808490b9-9ae7-4471-a8c3-b394c715d686",
   "metadata": {},
   "outputs": [],
   "source": [
    "arr = np.array(range(10))"
   ]
  },
  {
   "cell_type": "code",
   "execution_count": 54,
   "id": "1dc9f9d0-d9cc-4710-8396-22254dde63dc",
   "metadata": {},
   "outputs": [
    {
     "data": {
      "text/plain": [
       "1"
      ]
     },
     "execution_count": 54,
     "metadata": {},
     "output_type": "execute_result"
    }
   ],
   "source": [
    "arr.ndim"
   ]
  },
  {
   "cell_type": "code",
   "execution_count": 55,
   "id": "7e8fc17e-6f45-4ba5-8b98-a05857873519",
   "metadata": {},
   "outputs": [
    {
     "data": {
      "text/plain": [
       "(10,)"
      ]
     },
     "execution_count": 55,
     "metadata": {},
     "output_type": "execute_result"
    }
   ],
   "source": [
    "arr.shape"
   ]
  },
  {
   "cell_type": "markdown",
   "id": "b611d80c-542b-483e-95f5-59a3f065dcde",
   "metadata": {},
   "source": [
    "# Task"
   ]
  },
  {
   "cell_type": "markdown",
   "id": "d00c8c42-a47a-4f58-974d-b35c852b021b",
   "metadata": {},
   "source": [
    "- Create a list with 10 Elements\n",
    "- Convert it into numpy array\n",
    "- add the complete list by 10\n",
    "- create a 2D numpy array\n",
    "- check the shape and dimension of the array"
   ]
  },
  {
   "cell_type": "code",
   "execution_count": 66,
   "id": "fafbf7e5-9abf-4146-a26b-9e11af29ce86",
   "metadata": {},
   "outputs": [],
   "source": [
    "arr = [i for i in range(10)] # Creating the list of 10 elements"
   ]
  },
  {
   "cell_type": "code",
   "execution_count": 58,
   "id": "300571a8-e272-4a69-95d0-12cc13499497",
   "metadata": {},
   "outputs": [],
   "source": [
    "narr = np.array(arr) # converting the list to numpy array"
   ]
  },
  {
   "cell_type": "code",
   "execution_count": 59,
   "id": "e07301d1-f3bb-4822-9c62-9cf10bcd91de",
   "metadata": {},
   "outputs": [
    {
     "data": {
      "text/plain": [
       "array([0, 1, 2, 3, 4, 5, 6, 7, 8, 9])"
      ]
     },
     "execution_count": 59,
     "metadata": {},
     "output_type": "execute_result"
    }
   ],
   "source": [
    "narr"
   ]
  },
  {
   "cell_type": "code",
   "execution_count": 60,
   "id": "e2c6da78-7206-4b45-bfe7-de523ff313ea",
   "metadata": {},
   "outputs": [
    {
     "data": {
      "text/plain": [
       "array([10, 11, 12, 13, 14, 15, 16, 17, 18, 19])"
      ]
     },
     "execution_count": 60,
     "metadata": {},
     "output_type": "execute_result"
    }
   ],
   "source": [
    "narr+10 # Adding the complete liist by 10"
   ]
  },
  {
   "cell_type": "code",
   "execution_count": 62,
   "id": "6c686968-463d-4dc4-bfde-57385d95d933",
   "metadata": {},
   "outputs": [],
   "source": [
    "arr2d = np.array([[1,2,3],[4,5,6]]) #2D numpy array"
   ]
  },
  {
   "cell_type": "code",
   "execution_count": 64,
   "id": "0fdebca2-cbb9-4d35-bb32-5cc6e4c6bcc2",
   "metadata": {},
   "outputs": [
    {
     "data": {
      "text/plain": [
       "2"
      ]
     },
     "execution_count": 64,
     "metadata": {},
     "output_type": "execute_result"
    }
   ],
   "source": [
    "arr2d.ndim # detecting the dimension"
   ]
  },
  {
   "cell_type": "code",
   "execution_count": 65,
   "id": "9a70ea4e-3076-4b86-aad2-03b361f492fc",
   "metadata": {},
   "outputs": [
    {
     "data": {
      "text/plain": [
       "(2, 3)"
      ]
     },
     "execution_count": 65,
     "metadata": {},
     "output_type": "execute_result"
    }
   ],
   "source": [
    "arr2d.shape #detecting the shape of an array"
   ]
  },
  {
   "cell_type": "markdown",
   "id": "a5d2cf70-2934-4771-a665-3b4d0abacaec",
   "metadata": {},
   "source": [
    "### Arange\n",
    "Directly create the numpy array\n",
    "\n",
    "`np.arange(start,end,step_size)`\n",
    "\n",
    "\n",
    "end is non inclusive\n",
    "\n",
    "range dosen't support floating step size but arange does"
   ]
  },
  {
   "cell_type": "code",
   "execution_count": 67,
   "id": "d7c8aa24-684d-4bb1-96c6-dbadd1664cc1",
   "metadata": {},
   "outputs": [
    {
     "data": {
      "text/plain": [
       "[0, 1, 2, 3, 4, 5, 6, 7, 8, 9]"
      ]
     },
     "execution_count": 67,
     "metadata": {},
     "output_type": "execute_result"
    }
   ],
   "source": [
    "list(range(10))"
   ]
  },
  {
   "cell_type": "code",
   "execution_count": 68,
   "id": "532cdc52-9409-4c90-93b1-ef349ef07cd0",
   "metadata": {},
   "outputs": [
    {
     "data": {
      "text/plain": [
       "array([1, 3, 5, 7, 9])"
      ]
     },
     "execution_count": 68,
     "metadata": {},
     "output_type": "execute_result"
    }
   ],
   "source": [
    "np.arange(1,10,2)"
   ]
  },
  {
   "cell_type": "code",
   "execution_count": 69,
   "id": "e417a287-1472-48c0-9a1e-33f6b3626136",
   "metadata": {},
   "outputs": [
    {
     "ename": "TypeError",
     "evalue": "'float' object cannot be interpreted as an integer",
     "output_type": "error",
     "traceback": [
      "\u001b[1;31m---------------------------------------------------------------------------\u001b[0m",
      "\u001b[1;31mTypeError\u001b[0m                                 Traceback (most recent call last)",
      "Cell \u001b[1;32mIn[69], line 1\u001b[0m\n\u001b[1;32m----> 1\u001b[0m \u001b[38;5;28;43mrange\u001b[39;49m\u001b[43m(\u001b[49m\u001b[38;5;241;43m1\u001b[39;49m\u001b[43m,\u001b[49m\u001b[38;5;241;43m2\u001b[39;49m\u001b[43m,\u001b[49m\u001b[38;5;241;43m0.5\u001b[39;49m\u001b[43m)\u001b[49m\n",
      "\u001b[1;31mTypeError\u001b[0m: 'float' object cannot be interpreted as an integer"
     ]
    }
   ],
   "source": [
    "range(1,2,0.5)"
   ]
  },
  {
   "cell_type": "code",
   "execution_count": 70,
   "id": "2bdb476f-0d23-4075-8487-68d22c13fc94",
   "metadata": {},
   "outputs": [
    {
     "data": {
      "text/plain": [
       "array([1. , 1.5])"
      ]
     },
     "execution_count": 70,
     "metadata": {},
     "output_type": "execute_result"
    }
   ],
   "source": [
    "np.arange(1,2,0.5)"
   ]
  },
  {
   "cell_type": "markdown",
   "id": "43292833-9844-47ad-835d-b4e3e4f08bd8",
   "metadata": {},
   "source": [
    "# Quize"
   ]
  },
  {
   "cell_type": "code",
   "execution_count": 71,
   "id": "2248ed2d-020c-4928-9dfd-de7e8cdcedc1",
   "metadata": {},
   "outputs": [],
   "source": [
    "arr = np.arange(5)"
   ]
  },
  {
   "cell_type": "code",
   "execution_count": 72,
   "id": "d09c90f7-4d69-43c7-b9eb-7153bdbac1b0",
   "metadata": {},
   "outputs": [],
   "source": [
    "arr[2:4] = 0"
   ]
  },
  {
   "cell_type": "code",
   "execution_count": 73,
   "id": "ec4cfbf4-7d39-4aca-8ac6-95a4d9b7e783",
   "metadata": {},
   "outputs": [
    {
     "name": "stdout",
     "output_type": "stream",
     "text": [
      "[0 1 0 0 4]\n"
     ]
    }
   ],
   "source": [
    "print(arr)"
   ]
  },
  {
   "cell_type": "markdown",
   "id": "1ee3bd14-eb8a-4249-9da7-5b831377aca1",
   "metadata": {},
   "source": [
    "# Data Type in Numpy"
   ]
  },
  {
   "cell_type": "code",
   "execution_count": 75,
   "id": "bda4c656-8775-4dea-b488-653dc765c876",
   "metadata": {},
   "outputs": [],
   "source": [
    "arr = np.array([1,2,3,4,5,6])"
   ]
  },
  {
   "cell_type": "code",
   "execution_count": 76,
   "id": "20f1c676-835a-4bdf-a3c0-a35ce8e8960e",
   "metadata": {},
   "outputs": [
    {
     "data": {
      "text/plain": [
       "dtype('int32')"
      ]
     },
     "execution_count": 76,
     "metadata": {},
     "output_type": "execute_result"
    }
   ],
   "source": [
    "arr.dtype"
   ]
  },
  {
   "cell_type": "code",
   "execution_count": 77,
   "id": "534f5c30-b31d-4b33-b104-b445affd2ce3",
   "metadata": {},
   "outputs": [],
   "source": [
    "arr = np.array([1,2,3,4,5,6.0])"
   ]
  },
  {
   "cell_type": "code",
   "execution_count": 78,
   "id": "bfc6d1f6-8a19-4150-a279-ea65cf4d99bd",
   "metadata": {},
   "outputs": [
    {
     "data": {
      "text/plain": [
       "dtype('float64')"
      ]
     },
     "execution_count": 78,
     "metadata": {},
     "output_type": "execute_result"
    }
   ],
   "source": [
    "arr.dtype"
   ]
  },
  {
   "cell_type": "code",
   "execution_count": 79,
   "id": "a84f0a6e-cd60-4cc8-8db4-fa6a820bcee3",
   "metadata": {},
   "outputs": [],
   "source": [
    "arr = np.array([1,2,3,4,5,\"6.0\"])"
   ]
  },
  {
   "cell_type": "code",
   "execution_count": 80,
   "id": "7f5e3c24-bc54-46aa-85fb-5bbba412274e",
   "metadata": {},
   "outputs": [
    {
     "data": {
      "text/plain": [
       "dtype('<U11')"
      ]
     },
     "execution_count": 80,
     "metadata": {},
     "output_type": "execute_result"
    }
   ],
   "source": [
    "arr.dtype"
   ]
  },
  {
   "cell_type": "code",
   "execution_count": 81,
   "id": "2a8d0fed-66c6-49c0-9636-4ca97b7c4d4a",
   "metadata": {},
   "outputs": [],
   "source": [
    "arr = np.array([1,2,3,4,5,6],dtype=float) # forcefully converting all the data type of your choice"
   ]
  },
  {
   "cell_type": "code",
   "execution_count": 82,
   "id": "20434612-04bb-45cf-825a-9c52175bc0c8",
   "metadata": {},
   "outputs": [
    {
     "data": {
      "text/plain": [
       "dtype('float64')"
      ]
     },
     "execution_count": 82,
     "metadata": {},
     "output_type": "execute_result"
    }
   ],
   "source": [
    "arr.dtype"
   ]
  },
  {
   "cell_type": "code",
   "execution_count": 83,
   "id": "603181e4-bb4c-4f1a-8bee-1891946405cd",
   "metadata": {},
   "outputs": [],
   "source": [
    "arr = np.array([1,2,3,4,5,\"6.0\"],dtype=str)"
   ]
  },
  {
   "cell_type": "code",
   "execution_count": 84,
   "id": "783b1d1a-619d-4325-b1e2-d790e37570d2",
   "metadata": {},
   "outputs": [
    {
     "data": {
      "text/plain": [
       "dtype('<U3')"
      ]
     },
     "execution_count": 84,
     "metadata": {},
     "output_type": "execute_result"
    }
   ],
   "source": [
    "arr.dtype"
   ]
  },
  {
   "cell_type": "code",
   "execution_count": 85,
   "id": "616a2f69-3fe7-4932-8fcf-9c539257960c",
   "metadata": {},
   "outputs": [],
   "source": [
    "arr = np.array([1,2,3,4,5,6],dtype=float)"
   ]
  },
  {
   "cell_type": "code",
   "execution_count": 86,
   "id": "879d1fbb-d6a2-4b5a-bf8c-3e1cf337e9ec",
   "metadata": {},
   "outputs": [
    {
     "data": {
      "text/plain": [
       "dtype('float64')"
      ]
     },
     "execution_count": 86,
     "metadata": {},
     "output_type": "execute_result"
    }
   ],
   "source": [
    "arr.dtype"
   ]
  },
  {
   "cell_type": "code",
   "execution_count": 87,
   "id": "d00a1aa2-e7b2-4c2e-abb4-fb9348861bda",
   "metadata": {},
   "outputs": [
    {
     "data": {
      "text/plain": [
       "array(['1.0', '2.0', '3.0', '4.0', '5.0', '6.0'], dtype='<U32')"
      ]
     },
     "execution_count": 87,
     "metadata": {},
     "output_type": "execute_result"
    }
   ],
   "source": [
    "arr.astype(\"str\")"
   ]
  },
  {
   "cell_type": "code",
   "execution_count": 88,
   "id": "296bf6c6-3cf7-42f5-a4c0-1ee2bcc0ec8f",
   "metadata": {},
   "outputs": [
    {
     "data": {
      "text/plain": [
       "array([1, 2, 3, 4, 5, 6])"
      ]
     },
     "execution_count": 88,
     "metadata": {},
     "output_type": "execute_result"
    }
   ],
   "source": [
    "arr.astype(\"int\")"
   ]
  },
  {
   "cell_type": "code",
   "execution_count": 89,
   "id": "f3e8a88f-20df-4421-b77b-b4b6696cad4e",
   "metadata": {},
   "outputs": [
    {
     "data": {
      "text/plain": [
       "array([1, 2, 3, 4, 5, 6], dtype=int64)"
      ]
     },
     "execution_count": 89,
     "metadata": {},
     "output_type": "execute_result"
    }
   ],
   "source": [
    "arr.astype(\"int64\")"
   ]
  },
  {
   "cell_type": "code",
   "execution_count": 91,
   "id": "62d37c89-05e1-4ac0-8099-adc561f7be91",
   "metadata": {},
   "outputs": [
    {
     "data": {
      "text/plain": [
       "array([1., 2., 3., 4., 5., 6.])"
      ]
     },
     "execution_count": 91,
     "metadata": {},
     "output_type": "execute_result"
    }
   ],
   "source": [
    "arr.astype(\"float\")"
   ]
  },
  {
   "cell_type": "markdown",
   "id": "df1785f5-9e8b-43de-bc3f-b41e80f539aa",
   "metadata": {},
   "source": [
    "### Task \n",
    "Create an array of float values and convert it into str"
   ]
  },
  {
   "cell_type": "code",
   "execution_count": 92,
   "id": "1429cb61-ab22-475d-841a-05b52a7d3e2e",
   "metadata": {},
   "outputs": [],
   "source": [
    "arr = np.array([1.4,6.12345,12345.123])"
   ]
  },
  {
   "cell_type": "code",
   "execution_count": 93,
   "id": "b7db2961-5a29-4fba-9a77-b473dd5e6a65",
   "metadata": {},
   "outputs": [
    {
     "data": {
      "text/plain": [
       "array([1.4000000e+00, 6.1234500e+00, 1.2345123e+04])"
      ]
     },
     "execution_count": 93,
     "metadata": {},
     "output_type": "execute_result"
    }
   ],
   "source": [
    "arr.astype(\"float\")"
   ]
  },
  {
   "cell_type": "code",
   "execution_count": 94,
   "id": "986951cb-f737-4f0b-aa72-9da43aa0812f",
   "metadata": {},
   "outputs": [
    {
     "data": {
      "text/plain": [
       "array(['1.4', '6.12345', '12345.123'], dtype='<U32')"
      ]
     },
     "execution_count": 94,
     "metadata": {},
     "output_type": "execute_result"
    }
   ],
   "source": [
    "arr.astype(\"str\")"
   ]
  },
  {
   "cell_type": "code",
   "execution_count": 95,
   "id": "39fd8c07-d918-4141-ba50-7226609a039c",
   "metadata": {},
   "outputs": [
    {
     "data": {
      "text/plain": [
       "array([1.4000000e+00, 6.1234500e+00, 1.2345123e+04])"
      ]
     },
     "execution_count": 95,
     "metadata": {},
     "output_type": "execute_result"
    }
   ],
   "source": [
    "np.array([1.4,6.12345,12345.123],dtype=float)"
   ]
  },
  {
   "cell_type": "markdown",
   "id": "9b7f8129-3b43-4d16-af63-fba17a436cd5",
   "metadata": {},
   "source": [
    "# Indexing and Slicing - It is exactly same as list"
   ]
  },
  {
   "cell_type": "code",
   "execution_count": 96,
   "id": "e4e652bb-8cb5-4b3a-ab8a-c0a8388d95c6",
   "metadata": {},
   "outputs": [],
   "source": [
    "arr = [1,2,3,4,5,6,7,8,10]"
   ]
  },
  {
   "cell_type": "code",
   "execution_count": 97,
   "id": "f8227d17-6900-42cf-b105-6cd86bb34258",
   "metadata": {},
   "outputs": [
    {
     "data": {
      "text/plain": [
       "3"
      ]
     },
     "execution_count": 97,
     "metadata": {},
     "output_type": "execute_result"
    }
   ],
   "source": [
    "arr[2]"
   ]
  },
  {
   "cell_type": "code",
   "execution_count": 101,
   "id": "b5bc8366-59d5-4211-9fd3-28e202aeb18c",
   "metadata": {},
   "outputs": [
    {
     "data": {
      "text/plain": [
       "3"
      ]
     },
     "execution_count": 101,
     "metadata": {},
     "output_type": "execute_result"
    }
   ],
   "source": [
    "arr[-7]"
   ]
  },
  {
   "cell_type": "code",
   "execution_count": 102,
   "id": "00b6ed51-5b3a-4d56-888d-cbded78be318",
   "metadata": {},
   "outputs": [
    {
     "data": {
      "text/plain": [
       "4"
      ]
     },
     "execution_count": 102,
     "metadata": {},
     "output_type": "execute_result"
    }
   ],
   "source": [
    "np.array(arr)[3]"
   ]
  },
  {
   "cell_type": "code",
   "execution_count": 103,
   "id": "17e8e754-eaaf-4b05-b769-84b7936a9593",
   "metadata": {},
   "outputs": [
    {
     "data": {
      "text/plain": [
       "3"
      ]
     },
     "execution_count": 103,
     "metadata": {},
     "output_type": "execute_result"
    }
   ],
   "source": [
    "np.array(arr)[-7]"
   ]
  },
  {
   "cell_type": "code",
   "execution_count": 105,
   "id": "86971c33-0dc6-4348-b6f4-46b920434893",
   "metadata": {},
   "outputs": [
    {
     "data": {
      "text/plain": [
       "array([3, 6, 8])"
      ]
     },
     "execution_count": 105,
     "metadata": {},
     "output_type": "execute_result"
    }
   ],
   "source": [
    "np.array(arr)[[2,5,7]] # List of index will take only selective set of index"
   ]
  },
  {
   "cell_type": "code",
   "execution_count": 107,
   "id": "c73ff6cb-d43d-4b3a-b3b3-f486e257e7cf",
   "metadata": {},
   "outputs": [
    {
     "data": {
      "text/plain": [
       "array([2, 3, 4, 5, 6])"
      ]
     },
     "execution_count": 107,
     "metadata": {},
     "output_type": "execute_result"
    }
   ],
   "source": [
    "np.arange(1,100)[1:6] #last element is not included "
   ]
  },
  {
   "cell_type": "markdown",
   "id": "1d79558e-a12d-491e-a203-df5d249c5689",
   "metadata": {},
   "source": [
    "### Quize"
   ]
  },
  {
   "cell_type": "code",
   "execution_count": 110,
   "id": "c1878186-b2d8-4a75-bca3-271fba7ddc4a",
   "metadata": {},
   "outputs": [],
   "source": [
    "a = np.arange(0,6)"
   ]
  },
  {
   "cell_type": "code",
   "execution_count": 111,
   "id": "8fca0fd5-dd63-4d0f-81ab-95a288187ac3",
   "metadata": {},
   "outputs": [
    {
     "data": {
      "text/plain": [
       "array([0, 1, 2, 3, 4, 5])"
      ]
     },
     "execution_count": 111,
     "metadata": {},
     "output_type": "execute_result"
    }
   ],
   "source": [
    "a"
   ]
  },
  {
   "cell_type": "code",
   "execution_count": 112,
   "id": "80b4bcc4-03ec-4d62-9008-a2bd4229e461",
   "metadata": {},
   "outputs": [],
   "source": [
    "a[4:] = 10"
   ]
  },
  {
   "cell_type": "code",
   "execution_count": 113,
   "id": "21a42ed4-44b8-48eb-be49-a33f0aa087d3",
   "metadata": {},
   "outputs": [
    {
     "data": {
      "text/plain": [
       "array([ 0,  1,  2,  3, 10, 10])"
      ]
     },
     "execution_count": 113,
     "metadata": {},
     "output_type": "execute_result"
    }
   ],
   "source": [
    "a"
   ]
  },
  {
   "cell_type": "markdown",
   "id": "98152175-c847-47f0-a2e7-b7d91d0c6484",
   "metadata": {},
   "source": [
    "# NPS Case Study\n",
    "- Query1 : All values that are less than 6 in below array"
   ]
  },
  {
   "cell_type": "code",
   "execution_count": 114,
   "id": "39ff7358-773d-4395-b696-f74cef7dd0f2",
   "metadata": {},
   "outputs": [],
   "source": [
    "#all values that are less than 6 in below array\n",
    "m1 = np.array([1,2,3,4,5,6,7,8,9,10])"
   ]
  },
  {
   "cell_type": "code",
   "execution_count": 119,
   "id": "78bff9c5-a92a-4fe0-9981-f5d257dc3ece",
   "metadata": {},
   "outputs": [],
   "source": [
    "query = m1<6 # Create a query for the question"
   ]
  },
  {
   "cell_type": "code",
   "execution_count": 121,
   "id": "e3026ffc-0d23-45dd-8113-9f7ddf75f722",
   "metadata": {},
   "outputs": [
    {
     "data": {
      "text/plain": [
       "array([1, 2, 3, 4, 5])"
      ]
     },
     "execution_count": 121,
     "metadata": {},
     "output_type": "execute_result"
    }
   ],
   "source": [
    "m1[query] # pass the query to the array index"
   ]
  },
  {
   "cell_type": "markdown",
   "id": "403e18f9-fd29-4642-a1a9-93ac91282765",
   "metadata": {},
   "source": [
    "## Quize"
   ]
  },
  {
   "cell_type": "code",
   "execution_count": 122,
   "id": "6c7ac065-ed49-4c9b-b6f9-3f172f68ad49",
   "metadata": {},
   "outputs": [],
   "source": [
    "a = [1,2,3,4,5,6,7,8]\n",
    "b = [100,200,300]\n"
   ]
  },
  {
   "cell_type": "code",
   "execution_count": 123,
   "id": "6dbf8b92-daf5-4775-8b40-3e9380b1d76f",
   "metadata": {},
   "outputs": [],
   "source": [
    "a[2:] = b[::-1]"
   ]
  },
  {
   "cell_type": "code",
   "execution_count": 124,
   "id": "07e475bf-b35b-4c73-b9c5-d23643b9ef9e",
   "metadata": {},
   "outputs": [
    {
     "data": {
      "text/plain": [
       "[1, 2, 300, 200, 100]"
      ]
     },
     "execution_count": 124,
     "metadata": {},
     "output_type": "execute_result"
    }
   ],
   "source": [
    "a"
   ]
  },
  {
   "cell_type": "code",
   "execution_count": null,
   "id": "d11d579c-68d9-4a61-b9ad-f9176295e682",
   "metadata": {},
   "outputs": [],
   "source": []
  }
 ],
 "metadata": {
  "kernelspec": {
   "display_name": "Python 3 (ipykernel)",
   "language": "python",
   "name": "python3"
  },
  "language_info": {
   "codemirror_mode": {
    "name": "ipython",
    "version": 3
   },
   "file_extension": ".py",
   "mimetype": "text/x-python",
   "name": "python",
   "nbconvert_exporter": "python",
   "pygments_lexer": "ipython3",
   "version": "3.11.5"
  }
 },
 "nbformat": 4,
 "nbformat_minor": 5
}
